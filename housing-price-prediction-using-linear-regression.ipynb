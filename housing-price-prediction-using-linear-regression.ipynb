{
 "cells": [
  {
   "cell_type": "markdown",
   "id": "8c5a52c1",
   "metadata": {
    "papermill": {
     "duration": 0.01158,
     "end_time": "2023-10-06T13:24:47.091875",
     "exception": false,
     "start_time": "2023-10-06T13:24:47.080295",
     "status": "completed"
    },
    "tags": []
   },
   "source": [
    "# **Predicting House Prices: Exploratory Data Analysis and Linear Regression Modeling**"
   ]
  },
  {
   "cell_type": "markdown",
   "id": "9b3ab6ba",
   "metadata": {
    "papermill": {
     "duration": 0.012277,
     "end_time": "2023-10-06T13:24:47.115514",
     "exception": false,
     "start_time": "2023-10-06T13:24:47.103237",
     "status": "completed"
    },
    "tags": []
   },
   "source": [
    "# **Importing the required libraries**"
   ]
  },
  {
   "cell_type": "code",
   "execution_count": 1,
   "id": "84b7cdc0",
   "metadata": {
    "execution": {
     "iopub.execute_input": "2023-10-06T13:24:47.139795Z",
     "iopub.status.busy": "2023-10-06T13:24:47.139133Z",
     "iopub.status.idle": "2023-10-06T13:24:48.922530Z",
     "shell.execute_reply": "2023-10-06T13:24:48.921649Z"
    },
    "papermill": {
     "duration": 1.798061,
     "end_time": "2023-10-06T13:24:48.924792",
     "exception": false,
     "start_time": "2023-10-06T13:24:47.126731",
     "status": "completed"
    },
    "tags": []
   },
   "outputs": [
    {
     "name": "stderr",
     "output_type": "stream",
     "text": [
      "/opt/conda/lib/python3.10/site-packages/scipy/__init__.py:146: UserWarning: A NumPy version >=1.16.5 and <1.23.0 is required for this version of SciPy (detected version 1.23.5\n",
      "  warnings.warn(f\"A NumPy version >={np_minversion} and <{np_maxversion}\"\n"
     ]
    }
   ],
   "source": [
    "import numpy as np   # Importing the numpy library for numerical computations\n",
    "import pandas as pd  # Importing the pandas library for data manipulation and analysis\n",
    "import matplotlib.pyplot as plt  # Importing the matplotlib library for plotting graphs\n",
    "import seaborn as sns  # Importing the seaborn library for enhanced data visualization\n",
    "from sklearn.model_selection import train_test_split # Importing the train_test_split function from sklearn.model_selection module\n",
    "from sklearn.preprocessing import MinMaxScaler # Import the MinMaxScaler from sklearn.preprocessing module\n",
    "from sklearn.linear_model import LinearRegression  # Importing the LinearRegression model from scikit-learn\n",
    "from sklearn.metrics import r2_score  # Importing the r2_score function from the sklearn.metrics module"
   ]
  },
  {
   "cell_type": "markdown",
   "id": "0921a1cf",
   "metadata": {
    "papermill": {
     "duration": 0.011067,
     "end_time": "2023-10-06T13:24:48.947460",
     "exception": false,
     "start_time": "2023-10-06T13:24:48.936393",
     "status": "completed"
    },
    "tags": []
   },
   "source": [
    "# **Importing our dataset**"
   ]
  },
  {
   "cell_type": "code",
   "execution_count": 2,
   "id": "2dbbd1f7",
   "metadata": {
    "execution": {
     "iopub.execute_input": "2023-10-06T13:24:48.972373Z",
     "iopub.status.busy": "2023-10-06T13:24:48.971794Z",
     "iopub.status.idle": "2023-10-06T13:24:49.020007Z",
     "shell.execute_reply": "2023-10-06T13:24:49.018945Z"
    },
    "papermill": {
     "duration": 0.063661,
     "end_time": "2023-10-06T13:24:49.022545",
     "exception": false,
     "start_time": "2023-10-06T13:24:48.958884",
     "status": "completed"
    },
    "tags": []
   },
   "outputs": [
    {
     "data": {
      "text/html": [
       "<div>\n",
       "<style scoped>\n",
       "    .dataframe tbody tr th:only-of-type {\n",
       "        vertical-align: middle;\n",
       "    }\n",
       "\n",
       "    .dataframe tbody tr th {\n",
       "        vertical-align: top;\n",
       "    }\n",
       "\n",
       "    .dataframe thead th {\n",
       "        text-align: right;\n",
       "    }\n",
       "</style>\n",
       "<table border=\"1\" class=\"dataframe\">\n",
       "  <thead>\n",
       "    <tr style=\"text-align: right;\">\n",
       "      <th></th>\n",
       "      <th>price</th>\n",
       "      <th>area</th>\n",
       "      <th>bedrooms</th>\n",
       "      <th>bathrooms</th>\n",
       "      <th>stories</th>\n",
       "      <th>mainroad</th>\n",
       "      <th>guestroom</th>\n",
       "      <th>basement</th>\n",
       "      <th>hotwaterheating</th>\n",
       "      <th>airconditioning</th>\n",
       "      <th>parking</th>\n",
       "      <th>prefarea</th>\n",
       "      <th>furnishingstatus</th>\n",
       "    </tr>\n",
       "  </thead>\n",
       "  <tbody>\n",
       "    <tr>\n",
       "      <th>0</th>\n",
       "      <td>13300000</td>\n",
       "      <td>7420</td>\n",
       "      <td>4</td>\n",
       "      <td>2</td>\n",
       "      <td>3</td>\n",
       "      <td>yes</td>\n",
       "      <td>no</td>\n",
       "      <td>no</td>\n",
       "      <td>no</td>\n",
       "      <td>yes</td>\n",
       "      <td>2</td>\n",
       "      <td>yes</td>\n",
       "      <td>furnished</td>\n",
       "    </tr>\n",
       "    <tr>\n",
       "      <th>1</th>\n",
       "      <td>12250000</td>\n",
       "      <td>8960</td>\n",
       "      <td>4</td>\n",
       "      <td>4</td>\n",
       "      <td>4</td>\n",
       "      <td>yes</td>\n",
       "      <td>no</td>\n",
       "      <td>no</td>\n",
       "      <td>no</td>\n",
       "      <td>yes</td>\n",
       "      <td>3</td>\n",
       "      <td>no</td>\n",
       "      <td>furnished</td>\n",
       "    </tr>\n",
       "    <tr>\n",
       "      <th>2</th>\n",
       "      <td>12250000</td>\n",
       "      <td>9960</td>\n",
       "      <td>3</td>\n",
       "      <td>2</td>\n",
       "      <td>2</td>\n",
       "      <td>yes</td>\n",
       "      <td>no</td>\n",
       "      <td>yes</td>\n",
       "      <td>no</td>\n",
       "      <td>no</td>\n",
       "      <td>2</td>\n",
       "      <td>yes</td>\n",
       "      <td>semi-furnished</td>\n",
       "    </tr>\n",
       "    <tr>\n",
       "      <th>3</th>\n",
       "      <td>12215000</td>\n",
       "      <td>7500</td>\n",
       "      <td>4</td>\n",
       "      <td>2</td>\n",
       "      <td>2</td>\n",
       "      <td>yes</td>\n",
       "      <td>no</td>\n",
       "      <td>yes</td>\n",
       "      <td>no</td>\n",
       "      <td>yes</td>\n",
       "      <td>3</td>\n",
       "      <td>yes</td>\n",
       "      <td>furnished</td>\n",
       "    </tr>\n",
       "    <tr>\n",
       "      <th>4</th>\n",
       "      <td>11410000</td>\n",
       "      <td>7420</td>\n",
       "      <td>4</td>\n",
       "      <td>1</td>\n",
       "      <td>2</td>\n",
       "      <td>yes</td>\n",
       "      <td>yes</td>\n",
       "      <td>yes</td>\n",
       "      <td>no</td>\n",
       "      <td>yes</td>\n",
       "      <td>2</td>\n",
       "      <td>no</td>\n",
       "      <td>furnished</td>\n",
       "    </tr>\n",
       "  </tbody>\n",
       "</table>\n",
       "</div>"
      ],
      "text/plain": [
       "      price  area  bedrooms  bathrooms  stories mainroad guestroom basement  \\\n",
       "0  13300000  7420         4          2        3      yes        no       no   \n",
       "1  12250000  8960         4          4        4      yes        no       no   \n",
       "2  12250000  9960         3          2        2      yes        no      yes   \n",
       "3  12215000  7500         4          2        2      yes        no      yes   \n",
       "4  11410000  7420         4          1        2      yes       yes      yes   \n",
       "\n",
       "  hotwaterheating airconditioning  parking prefarea furnishingstatus  \n",
       "0              no             yes        2      yes        furnished  \n",
       "1              no             yes        3       no        furnished  \n",
       "2              no              no        2      yes   semi-furnished  \n",
       "3              no             yes        3      yes        furnished  \n",
       "4              no             yes        2       no        furnished  "
      ]
     },
     "execution_count": 2,
     "metadata": {},
     "output_type": "execute_result"
    }
   ],
   "source": [
    "data = pd.read_csv('/kaggle/input/housing-dataset/Housing.csv')  # Reading a CSV file and storing the data in a pandas DataFrame called 'data'\n",
    "data.head()  # Displaying the first few rows of the DataFrame 'data'  "
   ]
  },
  {
   "cell_type": "code",
   "execution_count": 3,
   "id": "c6c0102a",
   "metadata": {
    "execution": {
     "iopub.execute_input": "2023-10-06T13:24:49.047464Z",
     "iopub.status.busy": "2023-10-06T13:24:49.046925Z",
     "iopub.status.idle": "2023-10-06T13:24:49.059516Z",
     "shell.execute_reply": "2023-10-06T13:24:49.058418Z"
    },
    "papermill": {
     "duration": 0.027497,
     "end_time": "2023-10-06T13:24:49.061612",
     "exception": false,
     "start_time": "2023-10-06T13:24:49.034115",
     "status": "completed"
    },
    "tags": []
   },
   "outputs": [
    {
     "data": {
      "text/html": [
       "<div>\n",
       "<style scoped>\n",
       "    .dataframe tbody tr th:only-of-type {\n",
       "        vertical-align: middle;\n",
       "    }\n",
       "\n",
       "    .dataframe tbody tr th {\n",
       "        vertical-align: top;\n",
       "    }\n",
       "\n",
       "    .dataframe thead th {\n",
       "        text-align: right;\n",
       "    }\n",
       "</style>\n",
       "<table border=\"1\" class=\"dataframe\">\n",
       "  <thead>\n",
       "    <tr style=\"text-align: right;\">\n",
       "      <th></th>\n",
       "      <th>price</th>\n",
       "      <th>area</th>\n",
       "      <th>bedrooms</th>\n",
       "      <th>bathrooms</th>\n",
       "      <th>stories</th>\n",
       "      <th>mainroad</th>\n",
       "      <th>guestroom</th>\n",
       "      <th>basement</th>\n",
       "      <th>hotwaterheating</th>\n",
       "      <th>airconditioning</th>\n",
       "      <th>parking</th>\n",
       "      <th>prefarea</th>\n",
       "      <th>furnishingstatus</th>\n",
       "    </tr>\n",
       "  </thead>\n",
       "  <tbody>\n",
       "    <tr>\n",
       "      <th>540</th>\n",
       "      <td>1820000</td>\n",
       "      <td>3000</td>\n",
       "      <td>2</td>\n",
       "      <td>1</td>\n",
       "      <td>1</td>\n",
       "      <td>yes</td>\n",
       "      <td>no</td>\n",
       "      <td>yes</td>\n",
       "      <td>no</td>\n",
       "      <td>no</td>\n",
       "      <td>2</td>\n",
       "      <td>no</td>\n",
       "      <td>unfurnished</td>\n",
       "    </tr>\n",
       "    <tr>\n",
       "      <th>541</th>\n",
       "      <td>1767150</td>\n",
       "      <td>2400</td>\n",
       "      <td>3</td>\n",
       "      <td>1</td>\n",
       "      <td>1</td>\n",
       "      <td>no</td>\n",
       "      <td>no</td>\n",
       "      <td>no</td>\n",
       "      <td>no</td>\n",
       "      <td>no</td>\n",
       "      <td>0</td>\n",
       "      <td>no</td>\n",
       "      <td>semi-furnished</td>\n",
       "    </tr>\n",
       "    <tr>\n",
       "      <th>542</th>\n",
       "      <td>1750000</td>\n",
       "      <td>3620</td>\n",
       "      <td>2</td>\n",
       "      <td>1</td>\n",
       "      <td>1</td>\n",
       "      <td>yes</td>\n",
       "      <td>no</td>\n",
       "      <td>no</td>\n",
       "      <td>no</td>\n",
       "      <td>no</td>\n",
       "      <td>0</td>\n",
       "      <td>no</td>\n",
       "      <td>unfurnished</td>\n",
       "    </tr>\n",
       "    <tr>\n",
       "      <th>543</th>\n",
       "      <td>1750000</td>\n",
       "      <td>2910</td>\n",
       "      <td>3</td>\n",
       "      <td>1</td>\n",
       "      <td>1</td>\n",
       "      <td>no</td>\n",
       "      <td>no</td>\n",
       "      <td>no</td>\n",
       "      <td>no</td>\n",
       "      <td>no</td>\n",
       "      <td>0</td>\n",
       "      <td>no</td>\n",
       "      <td>furnished</td>\n",
       "    </tr>\n",
       "    <tr>\n",
       "      <th>544</th>\n",
       "      <td>1750000</td>\n",
       "      <td>3850</td>\n",
       "      <td>3</td>\n",
       "      <td>1</td>\n",
       "      <td>2</td>\n",
       "      <td>yes</td>\n",
       "      <td>no</td>\n",
       "      <td>no</td>\n",
       "      <td>no</td>\n",
       "      <td>no</td>\n",
       "      <td>0</td>\n",
       "      <td>no</td>\n",
       "      <td>unfurnished</td>\n",
       "    </tr>\n",
       "  </tbody>\n",
       "</table>\n",
       "</div>"
      ],
      "text/plain": [
       "       price  area  bedrooms  bathrooms  stories mainroad guestroom basement  \\\n",
       "540  1820000  3000         2          1        1      yes        no      yes   \n",
       "541  1767150  2400         3          1        1       no        no       no   \n",
       "542  1750000  3620         2          1        1      yes        no       no   \n",
       "543  1750000  2910         3          1        1       no        no       no   \n",
       "544  1750000  3850         3          1        2      yes        no       no   \n",
       "\n",
       "    hotwaterheating airconditioning  parking prefarea furnishingstatus  \n",
       "540              no              no        2       no      unfurnished  \n",
       "541              no              no        0       no   semi-furnished  \n",
       "542              no              no        0       no      unfurnished  \n",
       "543              no              no        0       no        furnished  \n",
       "544              no              no        0       no      unfurnished  "
      ]
     },
     "execution_count": 3,
     "metadata": {},
     "output_type": "execute_result"
    }
   ],
   "source": [
    "# Displaying our data from the end\n",
    "data.tail(5)"
   ]
  },
  {
   "cell_type": "markdown",
   "id": "3f4358e6",
   "metadata": {
    "papermill": {
     "duration": 0.011393,
     "end_time": "2023-10-06T13:24:49.085754",
     "exception": false,
     "start_time": "2023-10-06T13:24:49.074361",
     "status": "completed"
    },
    "tags": []
   },
   "source": [
    "# **Understanding our data**"
   ]
  },
  {
   "cell_type": "code",
   "execution_count": 4,
   "id": "46f01e6c",
   "metadata": {
    "execution": {
     "iopub.execute_input": "2023-10-06T13:24:49.110594Z",
     "iopub.status.busy": "2023-10-06T13:24:49.109854Z",
     "iopub.status.idle": "2023-10-06T13:24:49.115512Z",
     "shell.execute_reply": "2023-10-06T13:24:49.114487Z"
    },
    "papermill": {
     "duration": 0.020069,
     "end_time": "2023-10-06T13:24:49.117345",
     "exception": false,
     "start_time": "2023-10-06T13:24:49.097276",
     "status": "completed"
    },
    "tags": []
   },
   "outputs": [
    {
     "name": "stdout",
     "output_type": "stream",
     "text": [
      "Rows and Columns of the dataset :-  (545, 13)\n"
     ]
    }
   ],
   "source": [
    "# Shape of our data\n",
    "print(\"Rows and Columns of the dataset :- \",data.shape)"
   ]
  },
  {
   "cell_type": "code",
   "execution_count": 5,
   "id": "461ca837",
   "metadata": {
    "execution": {
     "iopub.execute_input": "2023-10-06T13:24:49.142850Z",
     "iopub.status.busy": "2023-10-06T13:24:49.142285Z",
     "iopub.status.idle": "2023-10-06T13:24:49.169313Z",
     "shell.execute_reply": "2023-10-06T13:24:49.167869Z"
    },
    "papermill": {
     "duration": 0.042445,
     "end_time": "2023-10-06T13:24:49.171627",
     "exception": false,
     "start_time": "2023-10-06T13:24:49.129182",
     "status": "completed"
    },
    "tags": []
   },
   "outputs": [
    {
     "name": "stdout",
     "output_type": "stream",
     "text": [
      "<class 'pandas.core.frame.DataFrame'>\n",
      "RangeIndex: 545 entries, 0 to 544\n",
      "Data columns (total 13 columns):\n",
      " #   Column            Non-Null Count  Dtype \n",
      "---  ------            --------------  ----- \n",
      " 0   price             545 non-null    int64 \n",
      " 1   area              545 non-null    int64 \n",
      " 2   bedrooms          545 non-null    int64 \n",
      " 3   bathrooms         545 non-null    int64 \n",
      " 4   stories           545 non-null    int64 \n",
      " 5   mainroad          545 non-null    object\n",
      " 6   guestroom         545 non-null    object\n",
      " 7   basement          545 non-null    object\n",
      " 8   hotwaterheating   545 non-null    object\n",
      " 9   airconditioning   545 non-null    object\n",
      " 10  parking           545 non-null    int64 \n",
      " 11  prefarea          545 non-null    object\n",
      " 12  furnishingstatus  545 non-null    object\n",
      "dtypes: int64(6), object(7)\n",
      "memory usage: 55.5+ KB\n"
     ]
    }
   ],
   "source": [
    "# Identifying information about composition and potential data quality\n",
    "data.info()"
   ]
  },
  {
   "cell_type": "code",
   "execution_count": 6,
   "id": "2b3dcc88",
   "metadata": {
    "execution": {
     "iopub.execute_input": "2023-10-06T13:24:49.196959Z",
     "iopub.status.busy": "2023-10-06T13:24:49.196570Z",
     "iopub.status.idle": "2023-10-06T13:24:49.202353Z",
     "shell.execute_reply": "2023-10-06T13:24:49.201542Z"
    },
    "papermill": {
     "duration": 0.020784,
     "end_time": "2023-10-06T13:24:49.204271",
     "exception": false,
     "start_time": "2023-10-06T13:24:49.183487",
     "status": "completed"
    },
    "tags": []
   },
   "outputs": [
    {
     "data": {
      "text/plain": [
       "Index(['price', 'area', 'bedrooms', 'bathrooms', 'stories', 'mainroad',\n",
       "       'guestroom', 'basement', 'hotwaterheating', 'airconditioning',\n",
       "       'parking', 'prefarea', 'furnishingstatus'],\n",
       "      dtype='object')"
      ]
     },
     "execution_count": 6,
     "metadata": {},
     "output_type": "execute_result"
    }
   ],
   "source": [
    "data.columns"
   ]
  },
  {
   "cell_type": "markdown",
   "id": "e4c56b16",
   "metadata": {
    "papermill": {
     "duration": 0.01236,
     "end_time": "2023-10-06T13:24:49.228864",
     "exception": false,
     "start_time": "2023-10-06T13:24:49.216504",
     "status": "completed"
    },
    "tags": []
   },
   "source": [
    "#### **Columns or Features Description**\n",
    "\n",
    "- 'price': The price of the house (target variable).\n",
    "- 'area': The area or size of the house in square feet.\n",
    "- 'bedrooms': The number of bedrooms in the house.\n",
    "- 'bathrooms': The number of bathrooms in the house.\n",
    "- 'stories': The number of stories or floors in the house.\n",
    "- 'mainroad': Categorical variable indicating whether the house is located near the main road or not.\n",
    "- 'guestroom': Categorical variable indicating whether the house has a guest room or not.\n",
    "- 'basement': Categorical variable indicating whether the house has a basement or not.\n",
    "- 'hotwaterheating': Categorical variable indicating whether the house has hot water heating or not.\n",
    "- 'airconditioning': Categorical variable indicating whether the house has air conditioning or not.\n",
    "- 'parking': The number of parking spaces available with the house.\n",
    "- 'prefarea': Categorical variable indicating whether the house is in a preferred area or not.\n",
    "- 'furnishingstatus': The furnishing status of the house (e.g., unfurnished, semi-furnished, fully furnished)."
   ]
  },
  {
   "cell_type": "code",
   "execution_count": 7,
   "id": "7d55db3b",
   "metadata": {
    "execution": {
     "iopub.execute_input": "2023-10-06T13:24:49.255029Z",
     "iopub.status.busy": "2023-10-06T13:24:49.254298Z",
     "iopub.status.idle": "2023-10-06T13:24:49.300045Z",
     "shell.execute_reply": "2023-10-06T13:24:49.299056Z"
    },
    "papermill": {
     "duration": 0.061042,
     "end_time": "2023-10-06T13:24:49.301954",
     "exception": false,
     "start_time": "2023-10-06T13:24:49.240912",
     "status": "completed"
    },
    "tags": []
   },
   "outputs": [
    {
     "data": {
      "text/html": [
       "<div>\n",
       "<style scoped>\n",
       "    .dataframe tbody tr th:only-of-type {\n",
       "        vertical-align: middle;\n",
       "    }\n",
       "\n",
       "    .dataframe tbody tr th {\n",
       "        vertical-align: top;\n",
       "    }\n",
       "\n",
       "    .dataframe thead th {\n",
       "        text-align: right;\n",
       "    }\n",
       "</style>\n",
       "<table border=\"1\" class=\"dataframe\">\n",
       "  <thead>\n",
       "    <tr style=\"text-align: right;\">\n",
       "      <th></th>\n",
       "      <th>price</th>\n",
       "      <th>area</th>\n",
       "      <th>bedrooms</th>\n",
       "      <th>bathrooms</th>\n",
       "      <th>stories</th>\n",
       "      <th>mainroad</th>\n",
       "      <th>guestroom</th>\n",
       "      <th>basement</th>\n",
       "      <th>hotwaterheating</th>\n",
       "      <th>airconditioning</th>\n",
       "      <th>parking</th>\n",
       "      <th>prefarea</th>\n",
       "      <th>furnishingstatus</th>\n",
       "    </tr>\n",
       "  </thead>\n",
       "  <tbody>\n",
       "    <tr>\n",
       "      <th>count</th>\n",
       "      <td>5.450000e+02</td>\n",
       "      <td>545.000000</td>\n",
       "      <td>545.000000</td>\n",
       "      <td>545.000000</td>\n",
       "      <td>545.000000</td>\n",
       "      <td>545</td>\n",
       "      <td>545</td>\n",
       "      <td>545</td>\n",
       "      <td>545</td>\n",
       "      <td>545</td>\n",
       "      <td>545.000000</td>\n",
       "      <td>545</td>\n",
       "      <td>545</td>\n",
       "    </tr>\n",
       "    <tr>\n",
       "      <th>unique</th>\n",
       "      <td>NaN</td>\n",
       "      <td>NaN</td>\n",
       "      <td>NaN</td>\n",
       "      <td>NaN</td>\n",
       "      <td>NaN</td>\n",
       "      <td>2</td>\n",
       "      <td>2</td>\n",
       "      <td>2</td>\n",
       "      <td>2</td>\n",
       "      <td>2</td>\n",
       "      <td>NaN</td>\n",
       "      <td>2</td>\n",
       "      <td>3</td>\n",
       "    </tr>\n",
       "    <tr>\n",
       "      <th>top</th>\n",
       "      <td>NaN</td>\n",
       "      <td>NaN</td>\n",
       "      <td>NaN</td>\n",
       "      <td>NaN</td>\n",
       "      <td>NaN</td>\n",
       "      <td>yes</td>\n",
       "      <td>no</td>\n",
       "      <td>no</td>\n",
       "      <td>no</td>\n",
       "      <td>no</td>\n",
       "      <td>NaN</td>\n",
       "      <td>no</td>\n",
       "      <td>semi-furnished</td>\n",
       "    </tr>\n",
       "    <tr>\n",
       "      <th>freq</th>\n",
       "      <td>NaN</td>\n",
       "      <td>NaN</td>\n",
       "      <td>NaN</td>\n",
       "      <td>NaN</td>\n",
       "      <td>NaN</td>\n",
       "      <td>468</td>\n",
       "      <td>448</td>\n",
       "      <td>354</td>\n",
       "      <td>520</td>\n",
       "      <td>373</td>\n",
       "      <td>NaN</td>\n",
       "      <td>417</td>\n",
       "      <td>227</td>\n",
       "    </tr>\n",
       "    <tr>\n",
       "      <th>mean</th>\n",
       "      <td>4.766729e+06</td>\n",
       "      <td>5150.541284</td>\n",
       "      <td>2.965138</td>\n",
       "      <td>1.286239</td>\n",
       "      <td>1.805505</td>\n",
       "      <td>NaN</td>\n",
       "      <td>NaN</td>\n",
       "      <td>NaN</td>\n",
       "      <td>NaN</td>\n",
       "      <td>NaN</td>\n",
       "      <td>0.693578</td>\n",
       "      <td>NaN</td>\n",
       "      <td>NaN</td>\n",
       "    </tr>\n",
       "    <tr>\n",
       "      <th>std</th>\n",
       "      <td>1.870440e+06</td>\n",
       "      <td>2170.141023</td>\n",
       "      <td>0.738064</td>\n",
       "      <td>0.502470</td>\n",
       "      <td>0.867492</td>\n",
       "      <td>NaN</td>\n",
       "      <td>NaN</td>\n",
       "      <td>NaN</td>\n",
       "      <td>NaN</td>\n",
       "      <td>NaN</td>\n",
       "      <td>0.861586</td>\n",
       "      <td>NaN</td>\n",
       "      <td>NaN</td>\n",
       "    </tr>\n",
       "    <tr>\n",
       "      <th>min</th>\n",
       "      <td>1.750000e+06</td>\n",
       "      <td>1650.000000</td>\n",
       "      <td>1.000000</td>\n",
       "      <td>1.000000</td>\n",
       "      <td>1.000000</td>\n",
       "      <td>NaN</td>\n",
       "      <td>NaN</td>\n",
       "      <td>NaN</td>\n",
       "      <td>NaN</td>\n",
       "      <td>NaN</td>\n",
       "      <td>0.000000</td>\n",
       "      <td>NaN</td>\n",
       "      <td>NaN</td>\n",
       "    </tr>\n",
       "    <tr>\n",
       "      <th>25%</th>\n",
       "      <td>3.430000e+06</td>\n",
       "      <td>3600.000000</td>\n",
       "      <td>2.000000</td>\n",
       "      <td>1.000000</td>\n",
       "      <td>1.000000</td>\n",
       "      <td>NaN</td>\n",
       "      <td>NaN</td>\n",
       "      <td>NaN</td>\n",
       "      <td>NaN</td>\n",
       "      <td>NaN</td>\n",
       "      <td>0.000000</td>\n",
       "      <td>NaN</td>\n",
       "      <td>NaN</td>\n",
       "    </tr>\n",
       "    <tr>\n",
       "      <th>50%</th>\n",
       "      <td>4.340000e+06</td>\n",
       "      <td>4600.000000</td>\n",
       "      <td>3.000000</td>\n",
       "      <td>1.000000</td>\n",
       "      <td>2.000000</td>\n",
       "      <td>NaN</td>\n",
       "      <td>NaN</td>\n",
       "      <td>NaN</td>\n",
       "      <td>NaN</td>\n",
       "      <td>NaN</td>\n",
       "      <td>0.000000</td>\n",
       "      <td>NaN</td>\n",
       "      <td>NaN</td>\n",
       "    </tr>\n",
       "    <tr>\n",
       "      <th>75%</th>\n",
       "      <td>5.740000e+06</td>\n",
       "      <td>6360.000000</td>\n",
       "      <td>3.000000</td>\n",
       "      <td>2.000000</td>\n",
       "      <td>2.000000</td>\n",
       "      <td>NaN</td>\n",
       "      <td>NaN</td>\n",
       "      <td>NaN</td>\n",
       "      <td>NaN</td>\n",
       "      <td>NaN</td>\n",
       "      <td>1.000000</td>\n",
       "      <td>NaN</td>\n",
       "      <td>NaN</td>\n",
       "    </tr>\n",
       "    <tr>\n",
       "      <th>max</th>\n",
       "      <td>1.330000e+07</td>\n",
       "      <td>16200.000000</td>\n",
       "      <td>6.000000</td>\n",
       "      <td>4.000000</td>\n",
       "      <td>4.000000</td>\n",
       "      <td>NaN</td>\n",
       "      <td>NaN</td>\n",
       "      <td>NaN</td>\n",
       "      <td>NaN</td>\n",
       "      <td>NaN</td>\n",
       "      <td>3.000000</td>\n",
       "      <td>NaN</td>\n",
       "      <td>NaN</td>\n",
       "    </tr>\n",
       "  </tbody>\n",
       "</table>\n",
       "</div>"
      ],
      "text/plain": [
       "               price          area    bedrooms   bathrooms     stories  \\\n",
       "count   5.450000e+02    545.000000  545.000000  545.000000  545.000000   \n",
       "unique           NaN           NaN         NaN         NaN         NaN   \n",
       "top              NaN           NaN         NaN         NaN         NaN   \n",
       "freq             NaN           NaN         NaN         NaN         NaN   \n",
       "mean    4.766729e+06   5150.541284    2.965138    1.286239    1.805505   \n",
       "std     1.870440e+06   2170.141023    0.738064    0.502470    0.867492   \n",
       "min     1.750000e+06   1650.000000    1.000000    1.000000    1.000000   \n",
       "25%     3.430000e+06   3600.000000    2.000000    1.000000    1.000000   \n",
       "50%     4.340000e+06   4600.000000    3.000000    1.000000    2.000000   \n",
       "75%     5.740000e+06   6360.000000    3.000000    2.000000    2.000000   \n",
       "max     1.330000e+07  16200.000000    6.000000    4.000000    4.000000   \n",
       "\n",
       "       mainroad guestroom basement hotwaterheating airconditioning  \\\n",
       "count       545       545      545             545             545   \n",
       "unique        2         2        2               2               2   \n",
       "top         yes        no       no              no              no   \n",
       "freq        468       448      354             520             373   \n",
       "mean        NaN       NaN      NaN             NaN             NaN   \n",
       "std         NaN       NaN      NaN             NaN             NaN   \n",
       "min         NaN       NaN      NaN             NaN             NaN   \n",
       "25%         NaN       NaN      NaN             NaN             NaN   \n",
       "50%         NaN       NaN      NaN             NaN             NaN   \n",
       "75%         NaN       NaN      NaN             NaN             NaN   \n",
       "max         NaN       NaN      NaN             NaN             NaN   \n",
       "\n",
       "           parking prefarea furnishingstatus  \n",
       "count   545.000000      545              545  \n",
       "unique         NaN        2                3  \n",
       "top            NaN       no   semi-furnished  \n",
       "freq           NaN      417              227  \n",
       "mean      0.693578      NaN              NaN  \n",
       "std       0.861586      NaN              NaN  \n",
       "min       0.000000      NaN              NaN  \n",
       "25%       0.000000      NaN              NaN  \n",
       "50%       0.000000      NaN              NaN  \n",
       "75%       1.000000      NaN              NaN  \n",
       "max       3.000000      NaN              NaN  "
      ]
     },
     "execution_count": 7,
     "metadata": {},
     "output_type": "execute_result"
    }
   ],
   "source": [
    "# To show statistical summary of the columns of our data\n",
    "data.describe(include ='all')"
   ]
  },
  {
   "cell_type": "markdown",
   "id": "fecec7c4",
   "metadata": {
    "papermill": {
     "duration": 0.012068,
     "end_time": "2023-10-06T13:24:49.326365",
     "exception": false,
     "start_time": "2023-10-06T13:24:49.314297",
     "status": "completed"
    },
    "tags": []
   },
   "source": [
    "# **Checking NULL Values**"
   ]
  },
  {
   "cell_type": "code",
   "execution_count": 8,
   "id": "45ff3363",
   "metadata": {
    "execution": {
     "iopub.execute_input": "2023-10-06T13:24:49.352067Z",
     "iopub.status.busy": "2023-10-06T13:24:49.351663Z",
     "iopub.status.idle": "2023-10-06T13:24:49.361314Z",
     "shell.execute_reply": "2023-10-06T13:24:49.360190Z"
    },
    "papermill": {
     "duration": 0.025261,
     "end_time": "2023-10-06T13:24:49.363565",
     "exception": false,
     "start_time": "2023-10-06T13:24:49.338304",
     "status": "completed"
    },
    "tags": []
   },
   "outputs": [
    {
     "data": {
      "text/plain": [
       "price               0\n",
       "area                0\n",
       "bedrooms            0\n",
       "bathrooms           0\n",
       "stories             0\n",
       "mainroad            0\n",
       "guestroom           0\n",
       "basement            0\n",
       "hotwaterheating     0\n",
       "airconditioning     0\n",
       "parking             0\n",
       "prefarea            0\n",
       "furnishingstatus    0\n",
       "dtype: int64"
      ]
     },
     "execution_count": 8,
     "metadata": {},
     "output_type": "execute_result"
    }
   ],
   "source": [
    "# To count the null values\n",
    "data.isnull().sum()"
   ]
  },
  {
   "cell_type": "markdown",
   "id": "d5feac7c",
   "metadata": {
    "papermill": {
     "duration": 0.012479,
     "end_time": "2023-10-06T13:24:49.388555",
     "exception": false,
     "start_time": "2023-10-06T13:24:49.376076",
     "status": "completed"
    },
    "tags": []
   },
   "source": [
    "The inference we can make after checking for null values and finding that there are no null values in any of the columns is that the dataset is complete in terms of missing values. \n",
    "\n",
    "Having no null values is beneficial because it allows us to work with the entire dataset without the need for imputation or handling missing data. We can proceed with further data analysis, visualization, and modeling."
   ]
  },
  {
   "cell_type": "markdown",
   "id": "b0a94834",
   "metadata": {
    "papermill": {
     "duration": 0.012123,
     "end_time": "2023-10-06T13:24:49.413010",
     "exception": false,
     "start_time": "2023-10-06T13:24:49.400887",
     "status": "completed"
    },
    "tags": []
   },
   "source": [
    "# **Performing EDA**\n"
   ]
  },
  {
   "cell_type": "code",
   "execution_count": 9,
   "id": "8526a6a5",
   "metadata": {
    "execution": {
     "iopub.execute_input": "2023-10-06T13:24:49.439627Z",
     "iopub.status.busy": "2023-10-06T13:24:49.439282Z",
     "iopub.status.idle": "2023-10-06T13:24:49.712394Z",
     "shell.execute_reply": "2023-10-06T13:24:49.711285Z"
    },
    "papermill": {
     "duration": 0.288846,
     "end_time": "2023-10-06T13:24:49.714438",
     "exception": false,
     "start_time": "2023-10-06T13:24:49.425592",
     "status": "completed"
    },
    "tags": []
   },
   "outputs": [
    {
     "data": {
      "image/png": "[encoded data removed]",
      "text/plain": [
       "<Figure size 640x480 with 1 Axes>"
      ]
     },
     "metadata": {},
     "output_type": "display_data"
    }
   ],
   "source": [
    "# Histogram of 'price'\n",
    "plt.hist(data['price'])\n",
    "plt.xlabel('Price')\n",
    "plt.ylabel('Frequency')\n",
    "plt.show()"
   ]
  },
  {
   "cell_type": "code",
   "execution_count": 10,
   "id": "c3c814cc",
   "metadata": {
    "execution": {
     "iopub.execute_input": "2023-10-06T13:24:49.741879Z",
     "iopub.status.busy": "2023-10-06T13:24:49.741490Z",
     "iopub.status.idle": "2023-10-06T13:24:49.975044Z",
     "shell.execute_reply": "2023-10-06T13:24:49.974035Z"
    },
    "papermill": {
     "duration": 0.250175,
     "end_time": "2023-10-06T13:24:49.977461",
     "exception": false,
     "start_time": "2023-10-06T13:24:49.727286",
     "status": "completed"
    },
    "tags": []
   },
   "outputs": [
    {
     "data": {
      "image/png": "[encoded data removed]",
      "text/plain": [
       "<Figure size 640x480 with 1 Axes>"
      ]
     },
     "metadata": {},
     "output_type": "display_data"
    }
   ],
   "source": [
    "# Box plot of 'price' vs. 'furnishingstatus'\n",
    "sns.boxplot(x='furnishingstatus', y='price', data=data)\n",
    "plt.xlabel('Furnishing Status')\n",
    "plt.ylabel('Price')\n",
    "plt.show()"
   ]
  },
  {
   "cell_type": "code",
   "execution_count": 11,
   "id": "7071297b",
   "metadata": {
    "execution": {
     "iopub.execute_input": "2023-10-06T13:24:50.006249Z",
     "iopub.status.busy": "2023-10-06T13:24:50.005786Z",
     "iopub.status.idle": "2023-10-06T13:24:50.261992Z",
     "shell.execute_reply": "2023-10-06T13:24:50.260754Z"
    },
    "papermill": {
     "duration": 0.273341,
     "end_time": "2023-10-06T13:24:50.264148",
     "exception": false,
     "start_time": "2023-10-06T13:24:49.990807",
     "status": "completed"
    },
    "tags": []
   },
   "outputs": [
    {
     "data": {
      "image/png": "[encoded data removed]",
      "text/plain": [
       "<Figure size 640x480 with 1 Axes>"
      ]
     },
     "metadata": {},
     "output_type": "display_data"
    }
   ],
   "source": [
    "# Scatter plot of 'area' vs. 'price'\n",
    "plt.scatter(data['area'], data['price'])\n",
    "plt.xlabel('Area')\n",
    "plt.ylabel('Price')\n",
    "plt.show()"
   ]
  },
  {
   "cell_type": "code",
   "execution_count": 12,
   "id": "0b93b1b6",
   "metadata": {
    "execution": {
     "iopub.execute_input": "2023-10-06T13:24:50.293296Z",
     "iopub.status.busy": "2023-10-06T13:24:50.292896Z",
     "iopub.status.idle": "2023-10-06T13:24:50.641013Z",
     "shell.execute_reply": "2023-10-06T13:24:50.640059Z"
    },
    "papermill": {
     "duration": 0.365638,
     "end_time": "2023-10-06T13:24:50.643572",
     "exception": false,
     "start_time": "2023-10-06T13:24:50.277934",
     "status": "completed"
    },
    "tags": []
   },
   "outputs": [
    {
     "name": "stderr",
     "output_type": "stream",
     "text": [
      "/tmp/ipykernel_20/3386866311.py:2: FutureWarning: The default value of numeric_only in DataFrame.corr is deprecated. In a future version, it will default to False. Select only valid columns or specify the value of numeric_only to silence this warning.\n",
      "  correlation_matrix = data.corr()\n"
     ]
    },
    {
     "data": {
      "image/png": "[encoded data removed]",
      "text/plain": [
       "<Figure size 640x480 with 2 Axes>"
      ]
     },
     "metadata": {},
     "output_type": "display_data"
    }
   ],
   "source": [
    "# Heatmap of correlation matrix\n",
    "correlation_matrix = data.corr()\n",
    "sns.heatmap(correlation_matrix,annot=True, cmap='coolwarm')\n",
    "plt.show()"
   ]
  },
  {
   "cell_type": "code",
   "execution_count": 13,
   "id": "b95cfe2c",
   "metadata": {
    "execution": {
     "iopub.execute_input": "2023-10-06T13:24:50.674098Z",
     "iopub.status.busy": "2023-10-06T13:24:50.673719Z",
     "iopub.status.idle": "2023-10-06T13:24:59.769133Z",
     "shell.execute_reply": "2023-10-06T13:24:59.768029Z"
    },
    "papermill": {
     "duration": 9.115448,
     "end_time": "2023-10-06T13:24:59.773538",
     "exception": false,
     "start_time": "2023-10-06T13:24:50.658090",
     "status": "completed"
    },
    "tags": []
   },
   "outputs": [
    {
     "name": "stderr",
     "output_type": "stream",
     "text": [
      "/opt/conda/lib/python3.10/site-packages/seaborn/axisgrid.py:118: UserWarning: The figure layout has changed to tight\n",
      "  self._figure.tight_layout(*args, **kwargs)\n"
     ]
    },
    {
     "data": {
      "image/png": "[encoded data removed]",
      "text/plain": [
       "<Figure size 1500x1500 with 42 Axes>"
      ]
     },
     "metadata": {},
     "output_type": "display_data"
    }
   ],
   "source": [
    "sns.pairplot(data)\n",
    "plt.show()"
   ]
  },
  {
   "cell_type": "code",
   "execution_count": 14,
   "id": "a82b0e06",
   "metadata": {
    "execution": {
     "iopub.execute_input": "2023-10-06T13:24:59.811553Z",
     "iopub.status.busy": "2023-10-06T13:24:59.810930Z",
     "iopub.status.idle": "2023-10-06T13:25:00.055356Z",
     "shell.execute_reply": "2023-10-06T13:25:00.054298Z"
    },
    "papermill": {
     "duration": 0.265764,
     "end_time": "2023-10-06T13:25:00.057423",
     "exception": false,
     "start_time": "2023-10-06T13:24:59.791659",
     "status": "completed"
    },
    "tags": []
   },
   "outputs": [
    {
     "data": {
      "image/png": "[encoded data removed]",
      "text/plain": [
       "<Figure size 640x480 with 1 Axes>"
      ]
     },
     "metadata": {},
     "output_type": "display_data"
    }
   ],
   "source": [
    "# Histogram of 'area'\n",
    "plt.hist(data['area'], bins=10)\n",
    "plt.xlabel('Area')\n",
    "plt.ylabel('Frequency')\n",
    "plt.show()"
   ]
  },
  {
   "cell_type": "code",
   "execution_count": 15,
   "id": "783ba0cc",
   "metadata": {
    "execution": {
     "iopub.execute_input": "2023-10-06T13:25:00.096929Z",
     "iopub.status.busy": "2023-10-06T13:25:00.095880Z",
     "iopub.status.idle": "2023-10-06T13:25:00.355465Z",
     "shell.execute_reply": "2023-10-06T13:25:00.354379Z"
    },
    "papermill": {
     "duration": 0.281599,
     "end_time": "2023-10-06T13:25:00.357743",
     "exception": false,
     "start_time": "2023-10-06T13:25:00.076144",
     "status": "completed"
    },
    "tags": []
   },
   "outputs": [
    {
     "name": "stderr",
     "output_type": "stream",
     "text": [
      "/tmp/ipykernel_20/1168776376.py:2: FutureWarning: \n",
      "\n",
      "`shade` is now deprecated in favor of `fill`; setting `fill=True`.\n",
      "This will become an error in seaborn v0.14.0; please update your code.\n",
      "\n",
      "  sns.kdeplot(data['price'], shade=True)\n"
     ]
    },
    {
     "data": {
      "image/png": "[encoded data removed]",
      "text/plain": [
       "<Figure size 640x480 with 1 Axes>"
      ]
     },
     "metadata": {},
     "output_type": "display_data"
    }
   ],
   "source": [
    "# Kernel Density Estimate (KDE) plot of 'price'\n",
    "sns.kdeplot(data['price'], shade=True)\n",
    "plt.xlabel('Price')\n",
    "plt.ylabel('Density')\n",
    "plt.show()"
   ]
  },
  {
   "cell_type": "markdown",
   "id": "71b3f86a",
   "metadata": {
    "papermill": {
     "duration": 0.019537,
     "end_time": "2023-10-06T13:25:00.396911",
     "exception": false,
     "start_time": "2023-10-06T13:25:00.377374",
     "status": "completed"
    },
    "tags": []
   },
   "source": [
    "# **Data Cleaning and Preparation**"
   ]
  },
  {
   "cell_type": "markdown",
   "id": "6595238a",
   "metadata": {
    "papermill": {
     "duration": 0.019558,
     "end_time": "2023-10-06T13:25:00.436335",
     "exception": false,
     "start_time": "2023-10-06T13:25:00.416777",
     "status": "completed"
    },
    "tags": []
   },
   "source": [
    "Before we move further lets understand what all are the changes we have to make in our dataset to prepare it for modelling. Some columns in our dataset contains categorical variables with \"yes\" and \"no\" values. In such cases, it is often necessary to make changes to these columns for further analysis or modeling. Here are some inferences for handling these columns:\n",
    "\n",
    "1. Binary Categorical Variables:\n",
    "\n",
    "- Columns such as 'mainroad', 'guestroom', 'basement', 'hotwaterheating', 'airconditioning', and 'prefarea' contain binary categorical variables with \"yes\" and \"no\" values.\n",
    "- To facilitate analysis and modeling, we can consider converting these variables to numeric values, such as 1 for \"yes\" and 0 for \"no\". This conversion allows the variables to be treated as binary variables rather than string values.\n",
    "\n",
    "2. Dummy Variables:\n",
    "\n",
    "- The 'furnishingstatus' column represents categorical variables indicating the furnishing status of the house, such as \"unfurnished\", \"semi-furnished\", and \"fully furnished\".\n",
    "- To incorporate this categorical information into the analysis or modeling process, it is common to create dummy variables.\n",
    "- Dummy variables are binary variables representing each category as a separate column, where a value of 1 indicates that a particular category is present and 0 otherwise.\n"
   ]
  },
  {
   "cell_type": "markdown",
   "id": "a3930513",
   "metadata": {
    "papermill": {
     "duration": 0.019006,
     "end_time": "2023-10-06T13:25:00.474571",
     "exception": false,
     "start_time": "2023-10-06T13:25:00.455565",
     "status": "completed"
    },
    "tags": []
   },
   "source": [
    "### **1. Handling Binary Categorical Variables (Yes/No) Categories**"
   ]
  },
  {
   "cell_type": "code",
   "execution_count": 16,
   "id": "5cbcf860",
   "metadata": {
    "execution": {
     "iopub.execute_input": "2023-10-06T13:25:00.514558Z",
     "iopub.status.busy": "2023-10-06T13:25:00.514201Z",
     "iopub.status.idle": "2023-10-06T13:25:00.519012Z",
     "shell.execute_reply": "2023-10-06T13:25:00.517988Z"
    },
    "papermill": {
     "duration": 0.027534,
     "end_time": "2023-10-06T13:25:00.520954",
     "exception": false,
     "start_time": "2023-10-06T13:25:00.493420",
     "status": "completed"
    },
    "tags": []
   },
   "outputs": [],
   "source": [
    "# List of categorical columns containing 'yes' and 'no' values\n",
    "categorical_col =  ['mainroad', 'guestroom', 'basement', 'hotwaterheating', 'airconditioning', 'prefarea']"
   ]
  },
  {
   "cell_type": "code",
   "execution_count": 17,
   "id": "7d3d140c",
   "metadata": {
    "execution": {
     "iopub.execute_input": "2023-10-06T13:25:00.562125Z",
     "iopub.status.busy": "2023-10-06T13:25:00.561756Z",
     "iopub.status.idle": "2023-10-06T13:25:00.576142Z",
     "shell.execute_reply": "2023-10-06T13:25:00.575050Z"
    },
    "papermill": {
     "duration": 0.037639,
     "end_time": "2023-10-06T13:25:00.578010",
     "exception": false,
     "start_time": "2023-10-06T13:25:00.540371",
     "status": "completed"
    },
    "tags": []
   },
   "outputs": [
    {
     "data": {
      "text/html": [
       "<div>\n",
       "<style scoped>\n",
       "    .dataframe tbody tr th:only-of-type {\n",
       "        vertical-align: middle;\n",
       "    }\n",
       "\n",
       "    .dataframe tbody tr th {\n",
       "        vertical-align: top;\n",
       "    }\n",
       "\n",
       "    .dataframe thead th {\n",
       "        text-align: right;\n",
       "    }\n",
       "</style>\n",
       "<table border=\"1\" class=\"dataframe\">\n",
       "  <thead>\n",
       "    <tr style=\"text-align: right;\">\n",
       "      <th></th>\n",
       "      <th>mainroad</th>\n",
       "      <th>guestroom</th>\n",
       "      <th>basement</th>\n",
       "      <th>hotwaterheating</th>\n",
       "      <th>airconditioning</th>\n",
       "      <th>prefarea</th>\n",
       "    </tr>\n",
       "  </thead>\n",
       "  <tbody>\n",
       "    <tr>\n",
       "      <th>0</th>\n",
       "      <td>yes</td>\n",
       "      <td>no</td>\n",
       "      <td>no</td>\n",
       "      <td>no</td>\n",
       "      <td>yes</td>\n",
       "      <td>yes</td>\n",
       "    </tr>\n",
       "    <tr>\n",
       "      <th>1</th>\n",
       "      <td>yes</td>\n",
       "      <td>no</td>\n",
       "      <td>no</td>\n",
       "      <td>no</td>\n",
       "      <td>yes</td>\n",
       "      <td>no</td>\n",
       "    </tr>\n",
       "    <tr>\n",
       "      <th>2</th>\n",
       "      <td>yes</td>\n",
       "      <td>no</td>\n",
       "      <td>yes</td>\n",
       "      <td>no</td>\n",
       "      <td>no</td>\n",
       "      <td>yes</td>\n",
       "    </tr>\n",
       "    <tr>\n",
       "      <th>3</th>\n",
       "      <td>yes</td>\n",
       "      <td>no</td>\n",
       "      <td>yes</td>\n",
       "      <td>no</td>\n",
       "      <td>yes</td>\n",
       "      <td>yes</td>\n",
       "    </tr>\n",
       "    <tr>\n",
       "      <th>4</th>\n",
       "      <td>yes</td>\n",
       "      <td>yes</td>\n",
       "      <td>yes</td>\n",
       "      <td>no</td>\n",
       "      <td>yes</td>\n",
       "      <td>no</td>\n",
       "    </tr>\n",
       "    <tr>\n",
       "      <th>...</th>\n",
       "      <td>...</td>\n",
       "      <td>...</td>\n",
       "      <td>...</td>\n",
       "      <td>...</td>\n",
       "      <td>...</td>\n",
       "      <td>...</td>\n",
       "    </tr>\n",
       "    <tr>\n",
       "      <th>540</th>\n",
       "      <td>yes</td>\n",
       "      <td>no</td>\n",
       "      <td>yes</td>\n",
       "      <td>no</td>\n",
       "      <td>no</td>\n",
       "      <td>no</td>\n",
       "    </tr>\n",
       "    <tr>\n",
       "      <th>541</th>\n",
       "      <td>no</td>\n",
       "      <td>no</td>\n",
       "      <td>no</td>\n",
       "      <td>no</td>\n",
       "      <td>no</td>\n",
       "      <td>no</td>\n",
       "    </tr>\n",
       "    <tr>\n",
       "      <th>542</th>\n",
       "      <td>yes</td>\n",
       "      <td>no</td>\n",
       "      <td>no</td>\n",
       "      <td>no</td>\n",
       "      <td>no</td>\n",
       "      <td>no</td>\n",
       "    </tr>\n",
       "    <tr>\n",
       "      <th>543</th>\n",
       "      <td>no</td>\n",
       "      <td>no</td>\n",
       "      <td>no</td>\n",
       "      <td>no</td>\n",
       "      <td>no</td>\n",
       "      <td>no</td>\n",
       "    </tr>\n",
       "    <tr>\n",
       "      <th>544</th>\n",
       "      <td>yes</td>\n",
       "      <td>no</td>\n",
       "      <td>no</td>\n",
       "      <td>no</td>\n",
       "      <td>no</td>\n",
       "      <td>no</td>\n",
       "    </tr>\n",
       "  </tbody>\n",
       "</table>\n",
       "<p>545 rows × 6 columns</p>\n",
       "</div>"
      ],
      "text/plain": [
       "    mainroad guestroom basement hotwaterheating airconditioning prefarea\n",
       "0        yes        no       no              no             yes      yes\n",
       "1        yes        no       no              no             yes       no\n",
       "2        yes        no      yes              no              no      yes\n",
       "3        yes        no      yes              no             yes      yes\n",
       "4        yes       yes      yes              no             yes       no\n",
       "..       ...       ...      ...             ...             ...      ...\n",
       "540      yes        no      yes              no              no       no\n",
       "541       no        no       no              no              no       no\n",
       "542      yes        no       no              no              no       no\n",
       "543       no        no       no              no              no       no\n",
       "544      yes        no       no              no              no       no\n",
       "\n",
       "[545 rows x 6 columns]"
      ]
     },
     "execution_count": 17,
     "metadata": {},
     "output_type": "execute_result"
    }
   ],
   "source": [
    "data[categorical_col]"
   ]
  },
  {
   "cell_type": "code",
   "execution_count": 18,
   "id": "184de6e6",
   "metadata": {
    "execution": {
     "iopub.execute_input": "2023-10-06T13:25:00.619307Z",
     "iopub.status.busy": "2023-10-06T13:25:00.618321Z",
     "iopub.status.idle": "2023-10-06T13:25:00.623878Z",
     "shell.execute_reply": "2023-10-06T13:25:00.623145Z"
    },
    "papermill": {
     "duration": 0.028646,
     "end_time": "2023-10-06T13:25:00.625798",
     "exception": false,
     "start_time": "2023-10-06T13:25:00.597152",
     "status": "completed"
    },
    "tags": []
   },
   "outputs": [],
   "source": [
    "def binary_map(x):\n",
    "    \"\"\"\n",
    "    Function to map 'yes' and 'no' values to 1 and 0, respectively.\n",
    "    \n",
    "    Parameters:\n",
    "    x (pandas Series): Input Series containing 'yes' and 'no' values.\n",
    "    \n",
    "    Returns:\n",
    "    pandas Series: Mapped Series with 'yes' mapped to 1 and 'no' mapped to 0.\n",
    "    \"\"\"\n",
    "    return x.map({'yes': 1, 'no': 0})"
   ]
  },
  {
   "cell_type": "code",
   "execution_count": 19,
   "id": "e6504ea9",
   "metadata": {
    "execution": {
     "iopub.execute_input": "2023-10-06T13:25:00.666918Z",
     "iopub.status.busy": "2023-10-06T13:25:00.666079Z",
     "iopub.status.idle": "2023-10-06T13:25:00.688586Z",
     "shell.execute_reply": "2023-10-06T13:25:00.687482Z"
    },
    "papermill": {
     "duration": 0.045532,
     "end_time": "2023-10-06T13:25:00.690756",
     "exception": false,
     "start_time": "2023-10-06T13:25:00.645224",
     "status": "completed"
    },
    "tags": []
   },
   "outputs": [
    {
     "data": {
      "text/html": [
       "<div>\n",
       "<style scoped>\n",
       "    .dataframe tbody tr th:only-of-type {\n",
       "        vertical-align: middle;\n",
       "    }\n",
       "\n",
       "    .dataframe tbody tr th {\n",
       "        vertical-align: top;\n",
       "    }\n",
       "\n",
       "    .dataframe thead th {\n",
       "        text-align: right;\n",
       "    }\n",
       "</style>\n",
       "<table border=\"1\" class=\"dataframe\">\n",
       "  <thead>\n",
       "    <tr style=\"text-align: right;\">\n",
       "      <th></th>\n",
       "      <th>mainroad</th>\n",
       "      <th>guestroom</th>\n",
       "      <th>basement</th>\n",
       "      <th>hotwaterheating</th>\n",
       "      <th>airconditioning</th>\n",
       "      <th>prefarea</th>\n",
       "    </tr>\n",
       "  </thead>\n",
       "  <tbody>\n",
       "    <tr>\n",
       "      <th>0</th>\n",
       "      <td>1</td>\n",
       "      <td>0</td>\n",
       "      <td>0</td>\n",
       "      <td>0</td>\n",
       "      <td>1</td>\n",
       "      <td>1</td>\n",
       "    </tr>\n",
       "    <tr>\n",
       "      <th>1</th>\n",
       "      <td>1</td>\n",
       "      <td>0</td>\n",
       "      <td>0</td>\n",
       "      <td>0</td>\n",
       "      <td>1</td>\n",
       "      <td>0</td>\n",
       "    </tr>\n",
       "    <tr>\n",
       "      <th>2</th>\n",
       "      <td>1</td>\n",
       "      <td>0</td>\n",
       "      <td>1</td>\n",
       "      <td>0</td>\n",
       "      <td>0</td>\n",
       "      <td>1</td>\n",
       "    </tr>\n",
       "    <tr>\n",
       "      <th>3</th>\n",
       "      <td>1</td>\n",
       "      <td>0</td>\n",
       "      <td>1</td>\n",
       "      <td>0</td>\n",
       "      <td>1</td>\n",
       "      <td>1</td>\n",
       "    </tr>\n",
       "    <tr>\n",
       "      <th>4</th>\n",
       "      <td>1</td>\n",
       "      <td>1</td>\n",
       "      <td>1</td>\n",
       "      <td>0</td>\n",
       "      <td>1</td>\n",
       "      <td>0</td>\n",
       "    </tr>\n",
       "    <tr>\n",
       "      <th>...</th>\n",
       "      <td>...</td>\n",
       "      <td>...</td>\n",
       "      <td>...</td>\n",
       "      <td>...</td>\n",
       "      <td>...</td>\n",
       "      <td>...</td>\n",
       "    </tr>\n",
       "    <tr>\n",
       "      <th>540</th>\n",
       "      <td>1</td>\n",
       "      <td>0</td>\n",
       "      <td>1</td>\n",
       "      <td>0</td>\n",
       "      <td>0</td>\n",
       "      <td>0</td>\n",
       "    </tr>\n",
       "    <tr>\n",
       "      <th>541</th>\n",
       "      <td>0</td>\n",
       "      <td>0</td>\n",
       "      <td>0</td>\n",
       "      <td>0</td>\n",
       "      <td>0</td>\n",
       "      <td>0</td>\n",
       "    </tr>\n",
       "    <tr>\n",
       "      <th>542</th>\n",
       "      <td>1</td>\n",
       "      <td>0</td>\n",
       "      <td>0</td>\n",
       "      <td>0</td>\n",
       "      <td>0</td>\n",
       "      <td>0</td>\n",
       "    </tr>\n",
       "    <tr>\n",
       "      <th>543</th>\n",
       "      <td>0</td>\n",
       "      <td>0</td>\n",
       "      <td>0</td>\n",
       "      <td>0</td>\n",
       "      <td>0</td>\n",
       "      <td>0</td>\n",
       "    </tr>\n",
       "    <tr>\n",
       "      <th>544</th>\n",
       "      <td>1</td>\n",
       "      <td>0</td>\n",
       "      <td>0</td>\n",
       "      <td>0</td>\n",
       "      <td>0</td>\n",
       "      <td>0</td>\n",
       "    </tr>\n",
       "  </tbody>\n",
       "</table>\n",
       "<p>545 rows × 6 columns</p>\n",
       "</div>"
      ],
      "text/plain": [
       "     mainroad  guestroom  basement  hotwaterheating  airconditioning  prefarea\n",
       "0           1          0         0                0                1         1\n",
       "1           1          0         0                0                1         0\n",
       "2           1          0         1                0                0         1\n",
       "3           1          0         1                0                1         1\n",
       "4           1          1         1                0                1         0\n",
       "..        ...        ...       ...              ...              ...       ...\n",
       "540         1          0         1                0                0         0\n",
       "541         0          0         0                0                0         0\n",
       "542         1          0         0                0                0         0\n",
       "543         0          0         0                0                0         0\n",
       "544         1          0         0                0                0         0\n",
       "\n",
       "[545 rows x 6 columns]"
      ]
     },
     "execution_count": 19,
     "metadata": {},
     "output_type": "execute_result"
    }
   ],
   "source": [
    "# Apply the binary_map function to multiple categorical columns in the 'data' DataFrame\n",
    "data[categorical_col] = data[categorical_col].apply(binary_map)\n",
    "\n",
    "# Display the updated values of the categorical columns\n",
    "data[categorical_col]"
   ]
  },
  {
   "cell_type": "code",
   "execution_count": 20,
   "id": "bc39ce7e",
   "metadata": {
    "execution": {
     "iopub.execute_input": "2023-10-06T13:25:00.741334Z",
     "iopub.status.busy": "2023-10-06T13:25:00.740957Z",
     "iopub.status.idle": "2023-10-06T13:25:00.752144Z",
     "shell.execute_reply": "2023-10-06T13:25:00.751396Z"
    },
    "papermill": {
     "duration": 0.033846,
     "end_time": "2023-10-06T13:25:00.753869",
     "exception": false,
     "start_time": "2023-10-06T13:25:00.720023",
     "status": "completed"
    },
    "tags": []
   },
   "outputs": [
    {
     "data": {
      "text/html": [
       "<div>\n",
       "<style scoped>\n",
       "    .dataframe tbody tr th:only-of-type {\n",
       "        vertical-align: middle;\n",
       "    }\n",
       "\n",
       "    .dataframe tbody tr th {\n",
       "        vertical-align: top;\n",
       "    }\n",
       "\n",
       "    .dataframe thead th {\n",
       "        text-align: right;\n",
       "    }\n",
       "</style>\n",
       "<table border=\"1\" class=\"dataframe\">\n",
       "  <thead>\n",
       "    <tr style=\"text-align: right;\">\n",
       "      <th></th>\n",
       "      <th>price</th>\n",
       "      <th>area</th>\n",
       "      <th>bedrooms</th>\n",
       "      <th>bathrooms</th>\n",
       "      <th>stories</th>\n",
       "      <th>mainroad</th>\n",
       "      <th>guestroom</th>\n",
       "      <th>basement</th>\n",
       "      <th>hotwaterheating</th>\n",
       "      <th>airconditioning</th>\n",
       "      <th>parking</th>\n",
       "      <th>prefarea</th>\n",
       "      <th>furnishingstatus</th>\n",
       "    </tr>\n",
       "  </thead>\n",
       "  <tbody>\n",
       "    <tr>\n",
       "      <th>0</th>\n",
       "      <td>13300000</td>\n",
       "      <td>7420</td>\n",
       "      <td>4</td>\n",
       "      <td>2</td>\n",
       "      <td>3</td>\n",
       "      <td>1</td>\n",
       "      <td>0</td>\n",
       "      <td>0</td>\n",
       "      <td>0</td>\n",
       "      <td>1</td>\n",
       "      <td>2</td>\n",
       "      <td>1</td>\n",
       "      <td>furnished</td>\n",
       "    </tr>\n",
       "    <tr>\n",
       "      <th>1</th>\n",
       "      <td>12250000</td>\n",
       "      <td>8960</td>\n",
       "      <td>4</td>\n",
       "      <td>4</td>\n",
       "      <td>4</td>\n",
       "      <td>1</td>\n",
       "      <td>0</td>\n",
       "      <td>0</td>\n",
       "      <td>0</td>\n",
       "      <td>1</td>\n",
       "      <td>3</td>\n",
       "      <td>0</td>\n",
       "      <td>furnished</td>\n",
       "    </tr>\n",
       "    <tr>\n",
       "      <th>2</th>\n",
       "      <td>12250000</td>\n",
       "      <td>9960</td>\n",
       "      <td>3</td>\n",
       "      <td>2</td>\n",
       "      <td>2</td>\n",
       "      <td>1</td>\n",
       "      <td>0</td>\n",
       "      <td>1</td>\n",
       "      <td>0</td>\n",
       "      <td>0</td>\n",
       "      <td>2</td>\n",
       "      <td>1</td>\n",
       "      <td>semi-furnished</td>\n",
       "    </tr>\n",
       "    <tr>\n",
       "      <th>3</th>\n",
       "      <td>12215000</td>\n",
       "      <td>7500</td>\n",
       "      <td>4</td>\n",
       "      <td>2</td>\n",
       "      <td>2</td>\n",
       "      <td>1</td>\n",
       "      <td>0</td>\n",
       "      <td>1</td>\n",
       "      <td>0</td>\n",
       "      <td>1</td>\n",
       "      <td>3</td>\n",
       "      <td>1</td>\n",
       "      <td>furnished</td>\n",
       "    </tr>\n",
       "    <tr>\n",
       "      <th>4</th>\n",
       "      <td>11410000</td>\n",
       "      <td>7420</td>\n",
       "      <td>4</td>\n",
       "      <td>1</td>\n",
       "      <td>2</td>\n",
       "      <td>1</td>\n",
       "      <td>1</td>\n",
       "      <td>1</td>\n",
       "      <td>0</td>\n",
       "      <td>1</td>\n",
       "      <td>2</td>\n",
       "      <td>0</td>\n",
       "      <td>furnished</td>\n",
       "    </tr>\n",
       "  </tbody>\n",
       "</table>\n",
       "</div>"
      ],
      "text/plain": [
       "      price  area  bedrooms  bathrooms  stories  mainroad  guestroom  \\\n",
       "0  13300000  7420         4          2        3         1          0   \n",
       "1  12250000  8960         4          4        4         1          0   \n",
       "2  12250000  9960         3          2        2         1          0   \n",
       "3  12215000  7500         4          2        2         1          0   \n",
       "4  11410000  7420         4          1        2         1          1   \n",
       "\n",
       "   basement  hotwaterheating  airconditioning  parking  prefarea  \\\n",
       "0         0                0                1        2         1   \n",
       "1         0                0                1        3         0   \n",
       "2         1                0                0        2         1   \n",
       "3         1                0                1        3         1   \n",
       "4         1                0                1        2         0   \n",
       "\n",
       "  furnishingstatus  \n",
       "0        furnished  \n",
       "1        furnished  \n",
       "2   semi-furnished  \n",
       "3        furnished  \n",
       "4        furnished  "
      ]
     },
     "execution_count": 20,
     "metadata": {},
     "output_type": "execute_result"
    }
   ],
   "source": [
    "# Display the first five rows of the DataFrame 'data' after the conversions\n",
    "data.head()"
   ]
  },
  {
   "cell_type": "markdown",
   "id": "6f685f41",
   "metadata": {
    "papermill": {
     "duration": 0.019736,
     "end_time": "2023-10-06T13:25:00.793435",
     "exception": false,
     "start_time": "2023-10-06T13:25:00.773699",
     "status": "completed"
    },
    "tags": []
   },
   "source": [
    "### **2. Handling Categorical data with Dummy Variable**"
   ]
  },
  {
   "cell_type": "code",
   "execution_count": 21,
   "id": "f5cd5b4a",
   "metadata": {
    "execution": {
     "iopub.execute_input": "2023-10-06T13:25:00.834913Z",
     "iopub.status.busy": "2023-10-06T13:25:00.834566Z",
     "iopub.status.idle": "2023-10-06T13:25:00.844586Z",
     "shell.execute_reply": "2023-10-06T13:25:00.843716Z"
    },
    "papermill": {
     "duration": 0.033067,
     "end_time": "2023-10-06T13:25:00.846259",
     "exception": false,
     "start_time": "2023-10-06T13:25:00.813192",
     "status": "completed"
    },
    "tags": []
   },
   "outputs": [
    {
     "data": {
      "text/html": [
       "<div>\n",
       "<style scoped>\n",
       "    .dataframe tbody tr th:only-of-type {\n",
       "        vertical-align: middle;\n",
       "    }\n",
       "\n",
       "    .dataframe tbody tr th {\n",
       "        vertical-align: top;\n",
       "    }\n",
       "\n",
       "    .dataframe thead th {\n",
       "        text-align: right;\n",
       "    }\n",
       "</style>\n",
       "<table border=\"1\" class=\"dataframe\">\n",
       "  <thead>\n",
       "    <tr style=\"text-align: right;\">\n",
       "      <th></th>\n",
       "      <th>furnished</th>\n",
       "      <th>semi-furnished</th>\n",
       "      <th>unfurnished</th>\n",
       "    </tr>\n",
       "  </thead>\n",
       "  <tbody>\n",
       "    <tr>\n",
       "      <th>0</th>\n",
       "      <td>1</td>\n",
       "      <td>0</td>\n",
       "      <td>0</td>\n",
       "    </tr>\n",
       "    <tr>\n",
       "      <th>1</th>\n",
       "      <td>1</td>\n",
       "      <td>0</td>\n",
       "      <td>0</td>\n",
       "    </tr>\n",
       "    <tr>\n",
       "      <th>2</th>\n",
       "      <td>0</td>\n",
       "      <td>1</td>\n",
       "      <td>0</td>\n",
       "    </tr>\n",
       "    <tr>\n",
       "      <th>3</th>\n",
       "      <td>1</td>\n",
       "      <td>0</td>\n",
       "      <td>0</td>\n",
       "    </tr>\n",
       "    <tr>\n",
       "      <th>4</th>\n",
       "      <td>1</td>\n",
       "      <td>0</td>\n",
       "      <td>0</td>\n",
       "    </tr>\n",
       "  </tbody>\n",
       "</table>\n",
       "</div>"
      ],
      "text/plain": [
       "   furnished  semi-furnished  unfurnished\n",
       "0          1               0            0\n",
       "1          1               0            0\n",
       "2          0               1            0\n",
       "3          1               0            0\n",
       "4          1               0            0"
      ]
     },
     "execution_count": 21,
     "metadata": {},
     "output_type": "execute_result"
    }
   ],
   "source": [
    "# Generate dummy variables for the 'furnishingstatus' column\n",
    "dummy_col = pd.get_dummies(data['furnishingstatus'])\n",
    "\n",
    "# Display the first few rows of the dummy variables DataFrame\n",
    "dummy_col.head()"
   ]
  },
  {
   "cell_type": "markdown",
   "id": "e4cc17e7",
   "metadata": {
    "papermill": {
     "duration": 0.0197,
     "end_time": "2023-10-06T13:25:00.885835",
     "exception": false,
     "start_time": "2023-10-06T13:25:00.866135",
     "status": "completed"
    },
    "tags": []
   },
   "source": [
    "furnished will be 00 and to avoid redudency we drop it. semi-furnished will be 10 and unfurnished will be 01"
   ]
  },
  {
   "cell_type": "code",
   "execution_count": 22,
   "id": "85e49eea",
   "metadata": {
    "execution": {
     "iopub.execute_input": "2023-10-06T13:25:00.927030Z",
     "iopub.status.busy": "2023-10-06T13:25:00.926603Z",
     "iopub.status.idle": "2023-10-06T13:25:00.936201Z",
     "shell.execute_reply": "2023-10-06T13:25:00.935407Z"
    },
    "papermill": {
     "duration": 0.032317,
     "end_time": "2023-10-06T13:25:00.937886",
     "exception": false,
     "start_time": "2023-10-06T13:25:00.905569",
     "status": "completed"
    },
    "tags": []
   },
   "outputs": [
    {
     "data": {
      "text/html": [
       "<div>\n",
       "<style scoped>\n",
       "    .dataframe tbody tr th:only-of-type {\n",
       "        vertical-align: middle;\n",
       "    }\n",
       "\n",
       "    .dataframe tbody tr th {\n",
       "        vertical-align: top;\n",
       "    }\n",
       "\n",
       "    .dataframe thead th {\n",
       "        text-align: right;\n",
       "    }\n",
       "</style>\n",
       "<table border=\"1\" class=\"dataframe\">\n",
       "  <thead>\n",
       "    <tr style=\"text-align: right;\">\n",
       "      <th></th>\n",
       "      <th>semi-furnished</th>\n",
       "      <th>unfurnished</th>\n",
       "    </tr>\n",
       "  </thead>\n",
       "  <tbody>\n",
       "    <tr>\n",
       "      <th>0</th>\n",
       "      <td>0</td>\n",
       "      <td>0</td>\n",
       "    </tr>\n",
       "    <tr>\n",
       "      <th>1</th>\n",
       "      <td>0</td>\n",
       "      <td>0</td>\n",
       "    </tr>\n",
       "    <tr>\n",
       "      <th>2</th>\n",
       "      <td>1</td>\n",
       "      <td>0</td>\n",
       "    </tr>\n",
       "    <tr>\n",
       "      <th>3</th>\n",
       "      <td>0</td>\n",
       "      <td>0</td>\n",
       "    </tr>\n",
       "    <tr>\n",
       "      <th>4</th>\n",
       "      <td>0</td>\n",
       "      <td>0</td>\n",
       "    </tr>\n",
       "  </tbody>\n",
       "</table>\n",
       "</div>"
      ],
      "text/plain": [
       "   semi-furnished  unfurnished\n",
       "0               0            0\n",
       "1               0            0\n",
       "2               1            0\n",
       "3               0            0\n",
       "4               0            0"
      ]
     },
     "execution_count": 22,
     "metadata": {},
     "output_type": "execute_result"
    }
   ],
   "source": [
    "# Regenerating dummy variables for the 'furnishingstatus' column, dropping the first category\n",
    "dummy_col = pd.get_dummies(data['furnishingstatus'], drop_first=True)\n",
    "\n",
    "# Display the first few rows of the dummy variables DataFrame\n",
    "dummy_col.head()"
   ]
  },
  {
   "cell_type": "markdown",
   "id": "015df225",
   "metadata": {
    "papermill": {
     "duration": 0.019517,
     "end_time": "2023-10-06T13:25:00.977301",
     "exception": false,
     "start_time": "2023-10-06T13:25:00.957784",
     "status": "completed"
    },
    "tags": []
   },
   "source": [
    "#### **Why dropped first category among three?**\n",
    "\n",
    "When creating dummy variables for these categories, dropping the first category ('furnished') among the three would be appropriate. This is because we want to avoid the dummy variable trap or multicollinearity in regression models.\n",
    "\n",
    "By dropping the first category, 'furnished', we create two dummy variables: 'semi-furnished' and 'unfurnished'. These two variables will capture the presence or absence of 'semi-furnished' and 'unfurnished' categories relative to the baseline category, which is 'furnished'.\n",
    "\n",
    "Consider the following example:\n",
    "\n",
    "Original 'furnishingstatus' column:\n",
    "\n",
    "| Index | furnishingstatus |\n",
    "|-------|-----------------|\n",
    "| 0     | furnished       |\n",
    "| 1     | semi-furnished  |\n",
    "| 2     | unfurnished     |\n",
    "| 3     | furnished       |\n",
    "| 4     | semi-furnished  |\n",
    "\n",
    "\n",
    "After creating dummy variables and dropping 'furnished':\n",
    "\n",
    "| Index | semi-furnished | unfurnished |\n",
    "|-------|----------------|-------------|\n",
    "| 0     | 0              | 0           |\n",
    "| 1     | 1              | 0           |\n",
    "| 2     | 0              | 1           |\n",
    "| 3     | 0              | 0           |\n",
    "| 4     | 1              | 0           |\n",
    "\n",
    "\n",
    "Here, the first row with 'semi-furnished' and 'unfurnished' as both 0 indicates that it corresponds to the dropped category 'furnished'. The presence or absence of 'semi-furnished' and 'unfurnished' is captured by the values in the respective dummy variables.\n",
    "\n",
    "By dropping the first category, we ensure linear independence among the dummy variables, which helps avoid multicollinearity and allows for proper interpretation of the coefficients associated with each category in the regression model.\n"
   ]
  },
  {
   "cell_type": "code",
   "execution_count": 23,
   "id": "23561abd",
   "metadata": {
    "execution": {
     "iopub.execute_input": "2023-10-06T13:25:01.018456Z",
     "iopub.status.busy": "2023-10-06T13:25:01.018099Z",
     "iopub.status.idle": "2023-10-06T13:25:01.031500Z",
     "shell.execute_reply": "2023-10-06T13:25:01.030670Z"
    },
    "papermill": {
     "duration": 0.036273,
     "end_time": "2023-10-06T13:25:01.033325",
     "exception": false,
     "start_time": "2023-10-06T13:25:00.997052",
     "status": "completed"
    },
    "tags": []
   },
   "outputs": [
    {
     "data": {
      "text/html": [
       "<div>\n",
       "<style scoped>\n",
       "    .dataframe tbody tr th:only-of-type {\n",
       "        vertical-align: middle;\n",
       "    }\n",
       "\n",
       "    .dataframe tbody tr th {\n",
       "        vertical-align: top;\n",
       "    }\n",
       "\n",
       "    .dataframe thead th {\n",
       "        text-align: right;\n",
       "    }\n",
       "</style>\n",
       "<table border=\"1\" class=\"dataframe\">\n",
       "  <thead>\n",
       "    <tr style=\"text-align: right;\">\n",
       "      <th></th>\n",
       "      <th>price</th>\n",
       "      <th>area</th>\n",
       "      <th>bedrooms</th>\n",
       "      <th>bathrooms</th>\n",
       "      <th>stories</th>\n",
       "      <th>mainroad</th>\n",
       "      <th>guestroom</th>\n",
       "      <th>basement</th>\n",
       "      <th>hotwaterheating</th>\n",
       "      <th>airconditioning</th>\n",
       "      <th>parking</th>\n",
       "      <th>prefarea</th>\n",
       "      <th>furnishingstatus</th>\n",
       "      <th>semi-furnished</th>\n",
       "      <th>unfurnished</th>\n",
       "    </tr>\n",
       "  </thead>\n",
       "  <tbody>\n",
       "    <tr>\n",
       "      <th>0</th>\n",
       "      <td>13300000</td>\n",
       "      <td>7420</td>\n",
       "      <td>4</td>\n",
       "      <td>2</td>\n",
       "      <td>3</td>\n",
       "      <td>1</td>\n",
       "      <td>0</td>\n",
       "      <td>0</td>\n",
       "      <td>0</td>\n",
       "      <td>1</td>\n",
       "      <td>2</td>\n",
       "      <td>1</td>\n",
       "      <td>furnished</td>\n",
       "      <td>0</td>\n",
       "      <td>0</td>\n",
       "    </tr>\n",
       "    <tr>\n",
       "      <th>1</th>\n",
       "      <td>12250000</td>\n",
       "      <td>8960</td>\n",
       "      <td>4</td>\n",
       "      <td>4</td>\n",
       "      <td>4</td>\n",
       "      <td>1</td>\n",
       "      <td>0</td>\n",
       "      <td>0</td>\n",
       "      <td>0</td>\n",
       "      <td>1</td>\n",
       "      <td>3</td>\n",
       "      <td>0</td>\n",
       "      <td>furnished</td>\n",
       "      <td>0</td>\n",
       "      <td>0</td>\n",
       "    </tr>\n",
       "    <tr>\n",
       "      <th>2</th>\n",
       "      <td>12250000</td>\n",
       "      <td>9960</td>\n",
       "      <td>3</td>\n",
       "      <td>2</td>\n",
       "      <td>2</td>\n",
       "      <td>1</td>\n",
       "      <td>0</td>\n",
       "      <td>1</td>\n",
       "      <td>0</td>\n",
       "      <td>0</td>\n",
       "      <td>2</td>\n",
       "      <td>1</td>\n",
       "      <td>semi-furnished</td>\n",
       "      <td>1</td>\n",
       "      <td>0</td>\n",
       "    </tr>\n",
       "    <tr>\n",
       "      <th>3</th>\n",
       "      <td>12215000</td>\n",
       "      <td>7500</td>\n",
       "      <td>4</td>\n",
       "      <td>2</td>\n",
       "      <td>2</td>\n",
       "      <td>1</td>\n",
       "      <td>0</td>\n",
       "      <td>1</td>\n",
       "      <td>0</td>\n",
       "      <td>1</td>\n",
       "      <td>3</td>\n",
       "      <td>1</td>\n",
       "      <td>furnished</td>\n",
       "      <td>0</td>\n",
       "      <td>0</td>\n",
       "    </tr>\n",
       "    <tr>\n",
       "      <th>4</th>\n",
       "      <td>11410000</td>\n",
       "      <td>7420</td>\n",
       "      <td>4</td>\n",
       "      <td>1</td>\n",
       "      <td>2</td>\n",
       "      <td>1</td>\n",
       "      <td>1</td>\n",
       "      <td>1</td>\n",
       "      <td>0</td>\n",
       "      <td>1</td>\n",
       "      <td>2</td>\n",
       "      <td>0</td>\n",
       "      <td>furnished</td>\n",
       "      <td>0</td>\n",
       "      <td>0</td>\n",
       "    </tr>\n",
       "  </tbody>\n",
       "</table>\n",
       "</div>"
      ],
      "text/plain": [
       "      price  area  bedrooms  bathrooms  stories  mainroad  guestroom  \\\n",
       "0  13300000  7420         4          2        3         1          0   \n",
       "1  12250000  8960         4          4        4         1          0   \n",
       "2  12250000  9960         3          2        2         1          0   \n",
       "3  12215000  7500         4          2        2         1          0   \n",
       "4  11410000  7420         4          1        2         1          1   \n",
       "\n",
       "   basement  hotwaterheating  airconditioning  parking  prefarea  \\\n",
       "0         0                0                1        2         1   \n",
       "1         0                0                1        3         0   \n",
       "2         1                0                0        2         1   \n",
       "3         1                0                1        3         1   \n",
       "4         1                0                1        2         0   \n",
       "\n",
       "  furnishingstatus  semi-furnished  unfurnished  \n",
       "0        furnished               0            0  \n",
       "1        furnished               0            0  \n",
       "2   semi-furnished               1            0  \n",
       "3        furnished               0            0  \n",
       "4        furnished               0            0  "
      ]
     },
     "execution_count": 23,
     "metadata": {},
     "output_type": "execute_result"
    }
   ],
   "source": [
    "# Concatenate the original 'data' DataFrame with the 'dummy_col' DataFrame along columns\n",
    "data = pd.concat([data, dummy_col], axis=1)\n",
    "\n",
    "# Display the first few rows of the updated DataFrame\n",
    "data.head()"
   ]
  },
  {
   "cell_type": "code",
   "execution_count": 24,
   "id": "09f57441",
   "metadata": {
    "execution": {
     "iopub.execute_input": "2023-10-06T13:25:01.076390Z",
     "iopub.status.busy": "2023-10-06T13:25:01.075381Z",
     "iopub.status.idle": "2023-10-06T13:25:01.088916Z",
     "shell.execute_reply": "2023-10-06T13:25:01.087859Z"
    },
    "papermill": {
     "duration": 0.037453,
     "end_time": "2023-10-06T13:25:01.090883",
     "exception": false,
     "start_time": "2023-10-06T13:25:01.053430",
     "status": "completed"
    },
    "tags": []
   },
   "outputs": [
    {
     "data": {
      "text/html": [
       "<div>\n",
       "<style scoped>\n",
       "    .dataframe tbody tr th:only-of-type {\n",
       "        vertical-align: middle;\n",
       "    }\n",
       "\n",
       "    .dataframe tbody tr th {\n",
       "        vertical-align: top;\n",
       "    }\n",
       "\n",
       "    .dataframe thead th {\n",
       "        text-align: right;\n",
       "    }\n",
       "</style>\n",
       "<table border=\"1\" class=\"dataframe\">\n",
       "  <thead>\n",
       "    <tr style=\"text-align: right;\">\n",
       "      <th></th>\n",
       "      <th>price</th>\n",
       "      <th>area</th>\n",
       "      <th>bedrooms</th>\n",
       "      <th>bathrooms</th>\n",
       "      <th>stories</th>\n",
       "      <th>mainroad</th>\n",
       "      <th>guestroom</th>\n",
       "      <th>basement</th>\n",
       "      <th>hotwaterheating</th>\n",
       "      <th>airconditioning</th>\n",
       "      <th>parking</th>\n",
       "      <th>prefarea</th>\n",
       "      <th>semi-furnished</th>\n",
       "      <th>unfurnished</th>\n",
       "    </tr>\n",
       "  </thead>\n",
       "  <tbody>\n",
       "    <tr>\n",
       "      <th>0</th>\n",
       "      <td>13300000</td>\n",
       "      <td>7420</td>\n",
       "      <td>4</td>\n",
       "      <td>2</td>\n",
       "      <td>3</td>\n",
       "      <td>1</td>\n",
       "      <td>0</td>\n",
       "      <td>0</td>\n",
       "      <td>0</td>\n",
       "      <td>1</td>\n",
       "      <td>2</td>\n",
       "      <td>1</td>\n",
       "      <td>0</td>\n",
       "      <td>0</td>\n",
       "    </tr>\n",
       "    <tr>\n",
       "      <th>1</th>\n",
       "      <td>12250000</td>\n",
       "      <td>8960</td>\n",
       "      <td>4</td>\n",
       "      <td>4</td>\n",
       "      <td>4</td>\n",
       "      <td>1</td>\n",
       "      <td>0</td>\n",
       "      <td>0</td>\n",
       "      <td>0</td>\n",
       "      <td>1</td>\n",
       "      <td>3</td>\n",
       "      <td>0</td>\n",
       "      <td>0</td>\n",
       "      <td>0</td>\n",
       "    </tr>\n",
       "    <tr>\n",
       "      <th>2</th>\n",
       "      <td>12250000</td>\n",
       "      <td>9960</td>\n",
       "      <td>3</td>\n",
       "      <td>2</td>\n",
       "      <td>2</td>\n",
       "      <td>1</td>\n",
       "      <td>0</td>\n",
       "      <td>1</td>\n",
       "      <td>0</td>\n",
       "      <td>0</td>\n",
       "      <td>2</td>\n",
       "      <td>1</td>\n",
       "      <td>1</td>\n",
       "      <td>0</td>\n",
       "    </tr>\n",
       "    <tr>\n",
       "      <th>3</th>\n",
       "      <td>12215000</td>\n",
       "      <td>7500</td>\n",
       "      <td>4</td>\n",
       "      <td>2</td>\n",
       "      <td>2</td>\n",
       "      <td>1</td>\n",
       "      <td>0</td>\n",
       "      <td>1</td>\n",
       "      <td>0</td>\n",
       "      <td>1</td>\n",
       "      <td>3</td>\n",
       "      <td>1</td>\n",
       "      <td>0</td>\n",
       "      <td>0</td>\n",
       "    </tr>\n",
       "    <tr>\n",
       "      <th>4</th>\n",
       "      <td>11410000</td>\n",
       "      <td>7420</td>\n",
       "      <td>4</td>\n",
       "      <td>1</td>\n",
       "      <td>2</td>\n",
       "      <td>1</td>\n",
       "      <td>1</td>\n",
       "      <td>1</td>\n",
       "      <td>0</td>\n",
       "      <td>1</td>\n",
       "      <td>2</td>\n",
       "      <td>0</td>\n",
       "      <td>0</td>\n",
       "      <td>0</td>\n",
       "    </tr>\n",
       "  </tbody>\n",
       "</table>\n",
       "</div>"
      ],
      "text/plain": [
       "      price  area  bedrooms  bathrooms  stories  mainroad  guestroom  \\\n",
       "0  13300000  7420         4          2        3         1          0   \n",
       "1  12250000  8960         4          4        4         1          0   \n",
       "2  12250000  9960         3          2        2         1          0   \n",
       "3  12215000  7500         4          2        2         1          0   \n",
       "4  11410000  7420         4          1        2         1          1   \n",
       "\n",
       "   basement  hotwaterheating  airconditioning  parking  prefarea  \\\n",
       "0         0                0                1        2         1   \n",
       "1         0                0                1        3         0   \n",
       "2         1                0                0        2         1   \n",
       "3         1                0                1        3         1   \n",
       "4         1                0                1        2         0   \n",
       "\n",
       "   semi-furnished  unfurnished  \n",
       "0               0            0  \n",
       "1               0            0  \n",
       "2               1            0  \n",
       "3               0            0  \n",
       "4               0            0  "
      ]
     },
     "execution_count": 24,
     "metadata": {},
     "output_type": "execute_result"
    }
   ],
   "source": [
    "# Drop the 'furnishingstatus' column from the DataFrame\n",
    "data.drop(['furnishingstatus'], axis=1, inplace=True)\n",
    "\n",
    "# Display the first few rows of the updated DataFrame\n",
    "data.head()"
   ]
  },
  {
   "cell_type": "markdown",
   "id": "2df6a3c1",
   "metadata": {
    "papermill": {
     "duration": 0.019854,
     "end_time": "2023-10-06T13:25:01.130987",
     "exception": false,
     "start_time": "2023-10-06T13:25:01.111133",
     "status": "completed"
    },
    "tags": []
   },
   "source": [
    "# **Splitting data into Training and Testing data**"
   ]
  },
  {
   "cell_type": "code",
   "execution_count": 25,
   "id": "4be3a565",
   "metadata": {
    "execution": {
     "iopub.execute_input": "2023-10-06T13:25:01.172932Z",
     "iopub.status.busy": "2023-10-06T13:25:01.172587Z",
     "iopub.status.idle": "2023-10-06T13:25:01.178706Z",
     "shell.execute_reply": "2023-10-06T13:25:01.177686Z"
    },
    "papermill": {
     "duration": 0.029654,
     "end_time": "2023-10-06T13:25:01.180472",
     "exception": false,
     "start_time": "2023-10-06T13:25:01.150818",
     "status": "completed"
    },
    "tags": []
   },
   "outputs": [
    {
     "data": {
      "text/plain": [
       "Index(['price', 'area', 'bedrooms', 'bathrooms', 'stories', 'mainroad',\n",
       "       'guestroom', 'basement', 'hotwaterheating', 'airconditioning',\n",
       "       'parking', 'prefarea', 'semi-furnished', 'unfurnished'],\n",
       "      dtype='object')"
      ]
     },
     "execution_count": 25,
     "metadata": {},
     "output_type": "execute_result"
    }
   ],
   "source": [
    "# To show the columns or features of our dataset\n",
    "data.columns"
   ]
  },
  {
   "cell_type": "code",
   "execution_count": 26,
   "id": "ada70be7",
   "metadata": {
    "execution": {
     "iopub.execute_input": "2023-10-06T13:25:01.226535Z",
     "iopub.status.busy": "2023-10-06T13:25:01.225533Z",
     "iopub.status.idle": "2023-10-06T13:25:01.231478Z",
     "shell.execute_reply": "2023-10-06T13:25:01.230620Z"
    },
    "papermill": {
     "duration": 0.032333,
     "end_time": "2023-10-06T13:25:01.233237",
     "exception": false,
     "start_time": "2023-10-06T13:25:01.200904",
     "status": "completed"
    },
    "tags": []
   },
   "outputs": [],
   "source": [
    "np.random.seed(0)\n",
    "\n",
    "# Split the data into training and testing subsets\n",
    "# df_train: Training subset\n",
    "# df_test: Testing subset\n",
    "df_train, df_test = train_test_split(data, train_size=0.7, test_size=0.3, random_state=100)"
   ]
  },
  {
   "cell_type": "code",
   "execution_count": 27,
   "id": "fe3b1e35",
   "metadata": {
    "execution": {
     "iopub.execute_input": "2023-10-06T13:25:01.276649Z",
     "iopub.status.busy": "2023-10-06T13:25:01.275948Z",
     "iopub.status.idle": "2023-10-06T13:25:01.288175Z",
     "shell.execute_reply": "2023-10-06T13:25:01.287435Z"
    },
    "papermill": {
     "duration": 0.036506,
     "end_time": "2023-10-06T13:25:01.289888",
     "exception": false,
     "start_time": "2023-10-06T13:25:01.253382",
     "status": "completed"
    },
    "tags": []
   },
   "outputs": [
    {
     "data": {
      "text/html": [
       "<div>\n",
       "<style scoped>\n",
       "    .dataframe tbody tr th:only-of-type {\n",
       "        vertical-align: middle;\n",
       "    }\n",
       "\n",
       "    .dataframe tbody tr th {\n",
       "        vertical-align: top;\n",
       "    }\n",
       "\n",
       "    .dataframe thead th {\n",
       "        text-align: right;\n",
       "    }\n",
       "</style>\n",
       "<table border=\"1\" class=\"dataframe\">\n",
       "  <thead>\n",
       "    <tr style=\"text-align: right;\">\n",
       "      <th></th>\n",
       "      <th>price</th>\n",
       "      <th>area</th>\n",
       "      <th>bedrooms</th>\n",
       "      <th>bathrooms</th>\n",
       "      <th>stories</th>\n",
       "      <th>mainroad</th>\n",
       "      <th>guestroom</th>\n",
       "      <th>basement</th>\n",
       "      <th>hotwaterheating</th>\n",
       "      <th>airconditioning</th>\n",
       "      <th>parking</th>\n",
       "      <th>prefarea</th>\n",
       "      <th>semi-furnished</th>\n",
       "      <th>unfurnished</th>\n",
       "    </tr>\n",
       "  </thead>\n",
       "  <tbody>\n",
       "    <tr>\n",
       "      <th>359</th>\n",
       "      <td>3710000</td>\n",
       "      <td>3600</td>\n",
       "      <td>3</td>\n",
       "      <td>1</td>\n",
       "      <td>1</td>\n",
       "      <td>1</td>\n",
       "      <td>0</td>\n",
       "      <td>0</td>\n",
       "      <td>0</td>\n",
       "      <td>0</td>\n",
       "      <td>1</td>\n",
       "      <td>0</td>\n",
       "      <td>0</td>\n",
       "      <td>1</td>\n",
       "    </tr>\n",
       "    <tr>\n",
       "      <th>19</th>\n",
       "      <td>8855000</td>\n",
       "      <td>6420</td>\n",
       "      <td>3</td>\n",
       "      <td>2</td>\n",
       "      <td>2</td>\n",
       "      <td>1</td>\n",
       "      <td>0</td>\n",
       "      <td>0</td>\n",
       "      <td>0</td>\n",
       "      <td>1</td>\n",
       "      <td>1</td>\n",
       "      <td>1</td>\n",
       "      <td>1</td>\n",
       "      <td>0</td>\n",
       "    </tr>\n",
       "    <tr>\n",
       "      <th>159</th>\n",
       "      <td>5460000</td>\n",
       "      <td>3150</td>\n",
       "      <td>3</td>\n",
       "      <td>2</td>\n",
       "      <td>1</td>\n",
       "      <td>1</td>\n",
       "      <td>1</td>\n",
       "      <td>1</td>\n",
       "      <td>0</td>\n",
       "      <td>1</td>\n",
       "      <td>0</td>\n",
       "      <td>0</td>\n",
       "      <td>0</td>\n",
       "      <td>0</td>\n",
       "    </tr>\n",
       "    <tr>\n",
       "      <th>35</th>\n",
       "      <td>8080940</td>\n",
       "      <td>7000</td>\n",
       "      <td>3</td>\n",
       "      <td>2</td>\n",
       "      <td>4</td>\n",
       "      <td>1</td>\n",
       "      <td>0</td>\n",
       "      <td>0</td>\n",
       "      <td>0</td>\n",
       "      <td>1</td>\n",
       "      <td>2</td>\n",
       "      <td>0</td>\n",
       "      <td>0</td>\n",
       "      <td>0</td>\n",
       "    </tr>\n",
       "    <tr>\n",
       "      <th>28</th>\n",
       "      <td>8400000</td>\n",
       "      <td>7950</td>\n",
       "      <td>5</td>\n",
       "      <td>2</td>\n",
       "      <td>2</td>\n",
       "      <td>1</td>\n",
       "      <td>0</td>\n",
       "      <td>1</td>\n",
       "      <td>1</td>\n",
       "      <td>0</td>\n",
       "      <td>2</td>\n",
       "      <td>0</td>\n",
       "      <td>0</td>\n",
       "      <td>1</td>\n",
       "    </tr>\n",
       "  </tbody>\n",
       "</table>\n",
       "</div>"
      ],
      "text/plain": [
       "       price  area  bedrooms  bathrooms  stories  mainroad  guestroom  \\\n",
       "359  3710000  3600         3          1        1         1          0   \n",
       "19   8855000  6420         3          2        2         1          0   \n",
       "159  5460000  3150         3          2        1         1          1   \n",
       "35   8080940  7000         3          2        4         1          0   \n",
       "28   8400000  7950         5          2        2         1          0   \n",
       "\n",
       "     basement  hotwaterheating  airconditioning  parking  prefarea  \\\n",
       "359         0                0                0        1         0   \n",
       "19          0                0                1        1         1   \n",
       "159         1                0                1        0         0   \n",
       "35          0                0                1        2         0   \n",
       "28          1                1                0        2         0   \n",
       "\n",
       "     semi-furnished  unfurnished  \n",
       "359               0            1  \n",
       "19                1            0  \n",
       "159               0            0  \n",
       "35                0            0  \n",
       "28                0            1  "
      ]
     },
     "execution_count": 27,
     "metadata": {},
     "output_type": "execute_result"
    }
   ],
   "source": [
    "# Display the first few rows of the training subset\n",
    "df_train.head()"
   ]
  },
  {
   "cell_type": "code",
   "execution_count": 28,
   "id": "51d50fcd",
   "metadata": {
    "execution": {
     "iopub.execute_input": "2023-10-06T13:25:01.336410Z",
     "iopub.status.busy": "2023-10-06T13:25:01.335741Z",
     "iopub.status.idle": "2023-10-06T13:25:01.340616Z",
     "shell.execute_reply": "2023-10-06T13:25:01.339996Z"
    },
    "papermill": {
     "duration": 0.031892,
     "end_time": "2023-10-06T13:25:01.342324",
     "exception": false,
     "start_time": "2023-10-06T13:25:01.310432",
     "status": "completed"
    },
    "tags": []
   },
   "outputs": [
    {
     "data": {
      "text/plain": [
       "(381, 14)"
      ]
     },
     "execution_count": 28,
     "metadata": {},
     "output_type": "execute_result"
    }
   ],
   "source": [
    "# Checking the shape of training set\n",
    "df_train.shape"
   ]
  },
  {
   "cell_type": "code",
   "execution_count": 29,
   "id": "6addec1e",
   "metadata": {
    "execution": {
     "iopub.execute_input": "2023-10-06T13:25:01.386662Z",
     "iopub.status.busy": "2023-10-06T13:25:01.386016Z",
     "iopub.status.idle": "2023-10-06T13:25:01.398791Z",
     "shell.execute_reply": "2023-10-06T13:25:01.398111Z"
    },
    "papermill": {
     "duration": 0.037257,
     "end_time": "2023-10-06T13:25:01.400477",
     "exception": false,
     "start_time": "2023-10-06T13:25:01.363220",
     "status": "completed"
    },
    "tags": []
   },
   "outputs": [
    {
     "data": {
      "text/html": [
       "<div>\n",
       "<style scoped>\n",
       "    .dataframe tbody tr th:only-of-type {\n",
       "        vertical-align: middle;\n",
       "    }\n",
       "\n",
       "    .dataframe tbody tr th {\n",
       "        vertical-align: top;\n",
       "    }\n",
       "\n",
       "    .dataframe thead th {\n",
       "        text-align: right;\n",
       "    }\n",
       "</style>\n",
       "<table border=\"1\" class=\"dataframe\">\n",
       "  <thead>\n",
       "    <tr style=\"text-align: right;\">\n",
       "      <th></th>\n",
       "      <th>price</th>\n",
       "      <th>area</th>\n",
       "      <th>bedrooms</th>\n",
       "      <th>bathrooms</th>\n",
       "      <th>stories</th>\n",
       "      <th>mainroad</th>\n",
       "      <th>guestroom</th>\n",
       "      <th>basement</th>\n",
       "      <th>hotwaterheating</th>\n",
       "      <th>airconditioning</th>\n",
       "      <th>parking</th>\n",
       "      <th>prefarea</th>\n",
       "      <th>semi-furnished</th>\n",
       "      <th>unfurnished</th>\n",
       "    </tr>\n",
       "  </thead>\n",
       "  <tbody>\n",
       "    <tr>\n",
       "      <th>265</th>\n",
       "      <td>4403000</td>\n",
       "      <td>2880</td>\n",
       "      <td>3</td>\n",
       "      <td>1</td>\n",
       "      <td>2</td>\n",
       "      <td>1</td>\n",
       "      <td>0</td>\n",
       "      <td>0</td>\n",
       "      <td>0</td>\n",
       "      <td>0</td>\n",
       "      <td>0</td>\n",
       "      <td>1</td>\n",
       "      <td>1</td>\n",
       "      <td>0</td>\n",
       "    </tr>\n",
       "    <tr>\n",
       "      <th>54</th>\n",
       "      <td>7350000</td>\n",
       "      <td>6000</td>\n",
       "      <td>3</td>\n",
       "      <td>2</td>\n",
       "      <td>2</td>\n",
       "      <td>1</td>\n",
       "      <td>1</td>\n",
       "      <td>0</td>\n",
       "      <td>0</td>\n",
       "      <td>1</td>\n",
       "      <td>1</td>\n",
       "      <td>0</td>\n",
       "      <td>1</td>\n",
       "      <td>0</td>\n",
       "    </tr>\n",
       "    <tr>\n",
       "      <th>171</th>\n",
       "      <td>5250000</td>\n",
       "      <td>10269</td>\n",
       "      <td>3</td>\n",
       "      <td>1</td>\n",
       "      <td>1</td>\n",
       "      <td>1</td>\n",
       "      <td>0</td>\n",
       "      <td>0</td>\n",
       "      <td>0</td>\n",
       "      <td>0</td>\n",
       "      <td>1</td>\n",
       "      <td>1</td>\n",
       "      <td>1</td>\n",
       "      <td>0</td>\n",
       "    </tr>\n",
       "    <tr>\n",
       "      <th>244</th>\n",
       "      <td>4550000</td>\n",
       "      <td>5320</td>\n",
       "      <td>3</td>\n",
       "      <td>1</td>\n",
       "      <td>2</td>\n",
       "      <td>1</td>\n",
       "      <td>1</td>\n",
       "      <td>1</td>\n",
       "      <td>0</td>\n",
       "      <td>0</td>\n",
       "      <td>0</td>\n",
       "      <td>1</td>\n",
       "      <td>1</td>\n",
       "      <td>0</td>\n",
       "    </tr>\n",
       "    <tr>\n",
       "      <th>268</th>\n",
       "      <td>4382000</td>\n",
       "      <td>4950</td>\n",
       "      <td>4</td>\n",
       "      <td>1</td>\n",
       "      <td>2</td>\n",
       "      <td>1</td>\n",
       "      <td>0</td>\n",
       "      <td>0</td>\n",
       "      <td>0</td>\n",
       "      <td>1</td>\n",
       "      <td>0</td>\n",
       "      <td>0</td>\n",
       "      <td>1</td>\n",
       "      <td>0</td>\n",
       "    </tr>\n",
       "  </tbody>\n",
       "</table>\n",
       "</div>"
      ],
      "text/plain": [
       "       price   area  bedrooms  bathrooms  stories  mainroad  guestroom  \\\n",
       "265  4403000   2880         3          1        2         1          0   \n",
       "54   7350000   6000         3          2        2         1          1   \n",
       "171  5250000  10269         3          1        1         1          0   \n",
       "244  4550000   5320         3          1        2         1          1   \n",
       "268  4382000   4950         4          1        2         1          0   \n",
       "\n",
       "     basement  hotwaterheating  airconditioning  parking  prefarea  \\\n",
       "265         0                0                0        0         1   \n",
       "54          0                0                1        1         0   \n",
       "171         0                0                0        1         1   \n",
       "244         1                0                0        0         1   \n",
       "268         0                0                1        0         0   \n",
       "\n",
       "     semi-furnished  unfurnished  \n",
       "265               1            0  \n",
       "54                1            0  \n",
       "171               1            0  \n",
       "244               1            0  \n",
       "268               1            0  "
      ]
     },
     "execution_count": 29,
     "metadata": {},
     "output_type": "execute_result"
    }
   ],
   "source": [
    "# Display the first few rows of the testing subset\n",
    "df_test.head()"
   ]
  },
  {
   "cell_type": "code",
   "execution_count": 30,
   "id": "ade1884f",
   "metadata": {
    "execution": {
     "iopub.execute_input": "2023-10-06T13:25:01.445523Z",
     "iopub.status.busy": "2023-10-06T13:25:01.444846Z",
     "iopub.status.idle": "2023-10-06T13:25:01.449738Z",
     "shell.execute_reply": "2023-10-06T13:25:01.449112Z"
    },
    "papermill": {
     "duration": 0.029511,
     "end_time": "2023-10-06T13:25:01.451347",
     "exception": false,
     "start_time": "2023-10-06T13:25:01.421836",
     "status": "completed"
    },
    "tags": []
   },
   "outputs": [
    {
     "data": {
      "text/plain": [
       "(164, 14)"
      ]
     },
     "execution_count": 30,
     "metadata": {},
     "output_type": "execute_result"
    }
   ],
   "source": [
    "# Checking the shape of training set\n",
    "df_test.shape"
   ]
  },
  {
   "cell_type": "markdown",
   "id": "bdfb1478",
   "metadata": {
    "papermill": {
     "duration": 0.020396,
     "end_time": "2023-10-06T13:25:01.492326",
     "exception": false,
     "start_time": "2023-10-06T13:25:01.471930",
     "status": "completed"
    },
    "tags": []
   },
   "source": [
    "# **Scaling Training Data: MinMaxScaler**"
   ]
  },
  {
   "cell_type": "code",
   "execution_count": 31,
   "id": "206c3e85",
   "metadata": {
    "execution": {
     "iopub.execute_input": "2023-10-06T13:25:01.534895Z",
     "iopub.status.busy": "2023-10-06T13:25:01.534521Z",
     "iopub.status.idle": "2023-10-06T13:25:01.539282Z",
     "shell.execute_reply": "2023-10-06T13:25:01.538178Z"
    },
    "papermill": {
     "duration": 0.028454,
     "end_time": "2023-10-06T13:25:01.541314",
     "exception": false,
     "start_time": "2023-10-06T13:25:01.512860",
     "status": "completed"
    },
    "tags": []
   },
   "outputs": [],
   "source": [
    "# Creating an instance of the MinMaxScaler\n",
    "scaler = MinMaxScaler()"
   ]
  },
  {
   "cell_type": "code",
   "execution_count": 32,
   "id": "3e6a25cb",
   "metadata": {
    "execution": {
     "iopub.execute_input": "2023-10-06T13:25:01.586209Z",
     "iopub.status.busy": "2023-10-06T13:25:01.585294Z",
     "iopub.status.idle": "2023-10-06T13:25:01.590097Z",
     "shell.execute_reply": "2023-10-06T13:25:01.588979Z"
    },
    "papermill": {
     "duration": 0.029786,
     "end_time": "2023-10-06T13:25:01.592207",
     "exception": false,
     "start_time": "2023-10-06T13:25:01.562421",
     "status": "completed"
    },
    "tags": []
   },
   "outputs": [],
   "source": [
    "# List of columns to scale\n",
    "col_to_scale = ['area', 'bedrooms', 'bathrooms', 'stories', 'parking', 'price']"
   ]
  },
  {
   "cell_type": "code",
   "execution_count": 33,
   "id": "f8cd1e2f",
   "metadata": {
    "execution": {
     "iopub.execute_input": "2023-10-06T13:25:01.637595Z",
     "iopub.status.busy": "2023-10-06T13:25:01.636347Z",
     "iopub.status.idle": "2023-10-06T13:25:01.646373Z",
     "shell.execute_reply": "2023-10-06T13:25:01.645215Z"
    },
    "papermill": {
     "duration": 0.03504,
     "end_time": "2023-10-06T13:25:01.648422",
     "exception": false,
     "start_time": "2023-10-06T13:25:01.613382",
     "status": "completed"
    },
    "tags": []
   },
   "outputs": [],
   "source": [
    "# Scaling the specified columns in the training subset using the MinMaxScaler\n",
    "df_train[col_to_scale] = scaler.fit_transform(df_train[col_to_scale])"
   ]
  },
  {
   "cell_type": "code",
   "execution_count": 34,
   "id": "0a8be0d4",
   "metadata": {
    "execution": {
     "iopub.execute_input": "2023-10-06T13:25:01.694112Z",
     "iopub.status.busy": "2023-10-06T13:25:01.692837Z",
     "iopub.status.idle": "2023-10-06T13:25:01.708845Z",
     "shell.execute_reply": "2023-10-06T13:25:01.707829Z"
    },
    "papermill": {
     "duration": 0.04109,
     "end_time": "2023-10-06T13:25:01.710821",
     "exception": false,
     "start_time": "2023-10-06T13:25:01.669731",
     "status": "completed"
    },
    "tags": []
   },
   "outputs": [
    {
     "data": {
      "text/html": [
       "<div>\n",
       "<style scoped>\n",
       "    .dataframe tbody tr th:only-of-type {\n",
       "        vertical-align: middle;\n",
       "    }\n",
       "\n",
       "    .dataframe tbody tr th {\n",
       "        vertical-align: top;\n",
       "    }\n",
       "\n",
       "    .dataframe thead th {\n",
       "        text-align: right;\n",
       "    }\n",
       "</style>\n",
       "<table border=\"1\" class=\"dataframe\">\n",
       "  <thead>\n",
       "    <tr style=\"text-align: right;\">\n",
       "      <th></th>\n",
       "      <th>price</th>\n",
       "      <th>area</th>\n",
       "      <th>bedrooms</th>\n",
       "      <th>bathrooms</th>\n",
       "      <th>stories</th>\n",
       "      <th>mainroad</th>\n",
       "      <th>guestroom</th>\n",
       "      <th>basement</th>\n",
       "      <th>hotwaterheating</th>\n",
       "      <th>airconditioning</th>\n",
       "      <th>parking</th>\n",
       "      <th>prefarea</th>\n",
       "      <th>semi-furnished</th>\n",
       "      <th>unfurnished</th>\n",
       "    </tr>\n",
       "  </thead>\n",
       "  <tbody>\n",
       "    <tr>\n",
       "      <th>359</th>\n",
       "      <td>0.169697</td>\n",
       "      <td>0.155227</td>\n",
       "      <td>0.4</td>\n",
       "      <td>0.0</td>\n",
       "      <td>0.000000</td>\n",
       "      <td>1</td>\n",
       "      <td>0</td>\n",
       "      <td>0</td>\n",
       "      <td>0</td>\n",
       "      <td>0</td>\n",
       "      <td>0.333333</td>\n",
       "      <td>0</td>\n",
       "      <td>0</td>\n",
       "      <td>1</td>\n",
       "    </tr>\n",
       "    <tr>\n",
       "      <th>19</th>\n",
       "      <td>0.615152</td>\n",
       "      <td>0.403379</td>\n",
       "      <td>0.4</td>\n",
       "      <td>0.5</td>\n",
       "      <td>0.333333</td>\n",
       "      <td>1</td>\n",
       "      <td>0</td>\n",
       "      <td>0</td>\n",
       "      <td>0</td>\n",
       "      <td>1</td>\n",
       "      <td>0.333333</td>\n",
       "      <td>1</td>\n",
       "      <td>1</td>\n",
       "      <td>0</td>\n",
       "    </tr>\n",
       "    <tr>\n",
       "      <th>159</th>\n",
       "      <td>0.321212</td>\n",
       "      <td>0.115628</td>\n",
       "      <td>0.4</td>\n",
       "      <td>0.5</td>\n",
       "      <td>0.000000</td>\n",
       "      <td>1</td>\n",
       "      <td>1</td>\n",
       "      <td>1</td>\n",
       "      <td>0</td>\n",
       "      <td>1</td>\n",
       "      <td>0.000000</td>\n",
       "      <td>0</td>\n",
       "      <td>0</td>\n",
       "      <td>0</td>\n",
       "    </tr>\n",
       "    <tr>\n",
       "      <th>35</th>\n",
       "      <td>0.548133</td>\n",
       "      <td>0.454417</td>\n",
       "      <td>0.4</td>\n",
       "      <td>0.5</td>\n",
       "      <td>1.000000</td>\n",
       "      <td>1</td>\n",
       "      <td>0</td>\n",
       "      <td>0</td>\n",
       "      <td>0</td>\n",
       "      <td>1</td>\n",
       "      <td>0.666667</td>\n",
       "      <td>0</td>\n",
       "      <td>0</td>\n",
       "      <td>0</td>\n",
       "    </tr>\n",
       "    <tr>\n",
       "      <th>28</th>\n",
       "      <td>0.575758</td>\n",
       "      <td>0.538015</td>\n",
       "      <td>0.8</td>\n",
       "      <td>0.5</td>\n",
       "      <td>0.333333</td>\n",
       "      <td>1</td>\n",
       "      <td>0</td>\n",
       "      <td>1</td>\n",
       "      <td>1</td>\n",
       "      <td>0</td>\n",
       "      <td>0.666667</td>\n",
       "      <td>0</td>\n",
       "      <td>0</td>\n",
       "      <td>1</td>\n",
       "    </tr>\n",
       "  </tbody>\n",
       "</table>\n",
       "</div>"
      ],
      "text/plain": [
       "        price      area  bedrooms  bathrooms   stories  mainroad  guestroom  \\\n",
       "359  0.169697  0.155227       0.4        0.0  0.000000         1          0   \n",
       "19   0.615152  0.403379       0.4        0.5  0.333333         1          0   \n",
       "159  0.321212  0.115628       0.4        0.5  0.000000         1          1   \n",
       "35   0.548133  0.454417       0.4        0.5  1.000000         1          0   \n",
       "28   0.575758  0.538015       0.8        0.5  0.333333         1          0   \n",
       "\n",
       "     basement  hotwaterheating  airconditioning   parking  prefarea  \\\n",
       "359         0                0                0  0.333333         0   \n",
       "19          0                0                1  0.333333         1   \n",
       "159         1                0                1  0.000000         0   \n",
       "35          0                0                1  0.666667         0   \n",
       "28          1                1                0  0.666667         0   \n",
       "\n",
       "     semi-furnished  unfurnished  \n",
       "359               0            1  \n",
       "19                1            0  \n",
       "159               0            0  \n",
       "35                0            0  \n",
       "28                0            1  "
      ]
     },
     "execution_count": 34,
     "metadata": {},
     "output_type": "execute_result"
    }
   ],
   "source": [
    "# Displaying the training subset\n",
    "df_train.head()"
   ]
  },
  {
   "cell_type": "markdown",
   "id": "2b8be250",
   "metadata": {
    "papermill": {
     "duration": 0.021605,
     "end_time": "2023-10-06T13:25:01.754238",
     "exception": false,
     "start_time": "2023-10-06T13:25:01.732633",
     "status": "completed"
    },
    "tags": []
   },
   "source": [
    "#### **Why to scale our data?**\n",
    "\n",
    "Scaling data is necessary to ensure that all features are on a similar scale or magnitude. When working with a dataset, it is common for different features to have different scales or units of measurement. Failure to scale the data can lead to biased or inefficient model performance.\n",
    "\n",
    "Scaling is important for several reasons. First, it prevents any particular feature from dominating the learning process simply because of its larger magnitude. When features have different scales, algorithms can assign disproportionate importance to features with larger values, potentially leading to inaccurate or biased results.\n",
    "\n",
    "Second, many machine learning algorithms are sensitive to the scale of the input features. For example, linear regression, logistic regression, and k-nearest neighbors are affected by unscaled data. Scaling the data ensures that these algorithms can properly interpret and compare the features, leading to more reliable and accurate model predictions.\n",
    "\n",
    "Third, scaling can improve the convergence speed of gradient-based optimization algorithms. When features have significantly different scales, the optimization process can take longer to find the optimal solution. Scaling the data speeds up convergence and allows the algorithm to converge more efficiently.\n",
    "\n",
    "Lastly, distance-based algorithms, such as k-means clustering or k-nearest neighbors, rely on calculating distances between data points. If the features have different scales, features with larger scales can dominate the distance calculations, leading to biased clustering or nearest neighbor selections. Scaling the data helps to eliminate this bias and ensures that all features contribute equally to the distance calculations.\n",
    "\n",
    "In summary, scaling data is necessary to ensure fair and accurate comparisons between features, improve model performance, speed up convergence, and avoid biased results in distance-based algorithms. It is an important preprocessing step in many machine learning workflows to enhance the quality and reliability of the models."
   ]
  },
  {
   "cell_type": "markdown",
   "id": "0988e7a2",
   "metadata": {
    "papermill": {
     "duration": 0.021026,
     "end_time": "2023-10-06T13:25:01.796385",
     "exception": false,
     "start_time": "2023-10-06T13:25:01.775359",
     "status": "completed"
    },
    "tags": []
   },
   "source": [
    "# **Training the model**"
   ]
  },
  {
   "cell_type": "code",
   "execution_count": 35,
   "id": "0a8d0f31",
   "metadata": {
    "execution": {
     "iopub.execute_input": "2023-10-06T13:25:01.841712Z",
     "iopub.status.busy": "2023-10-06T13:25:01.841032Z",
     "iopub.status.idle": "2023-10-06T13:25:01.845738Z",
     "shell.execute_reply": "2023-10-06T13:25:01.844893Z"
    },
    "papermill": {
     "duration": 0.029829,
     "end_time": "2023-10-06T13:25:01.847550",
     "exception": false,
     "start_time": "2023-10-06T13:25:01.817721",
     "status": "completed"
    },
    "tags": []
   },
   "outputs": [],
   "source": [
    "# Separate the target variable from the training subset\n",
    "y_train = df_train.pop('price')\n",
    "\n",
    "# Extract the remaining features as the training data\n",
    "x_train = df_train"
   ]
  },
  {
   "cell_type": "code",
   "execution_count": 36,
   "id": "7a6d381e",
   "metadata": {
    "execution": {
     "iopub.execute_input": "2023-10-06T13:25:01.892535Z",
     "iopub.status.busy": "2023-10-06T13:25:01.891848Z",
     "iopub.status.idle": "2023-10-06T13:25:01.897944Z",
     "shell.execute_reply": "2023-10-06T13:25:01.897301Z"
    },
    "papermill": {
     "duration": 0.030668,
     "end_time": "2023-10-06T13:25:01.899619",
     "exception": false,
     "start_time": "2023-10-06T13:25:01.868951",
     "status": "completed"
    },
    "tags": []
   },
   "outputs": [
    {
     "data": {
      "text/plain": [
       "359    0.169697\n",
       "19     0.615152\n",
       "159    0.321212\n",
       "35     0.548133\n",
       "28     0.575758\n",
       "Name: price, dtype: float64"
      ]
     },
     "execution_count": 36,
     "metadata": {},
     "output_type": "execute_result"
    }
   ],
   "source": [
    "# To display the first few rows of the target variable in the training subset\n",
    "y_train.head()"
   ]
  },
  {
   "cell_type": "code",
   "execution_count": 37,
   "id": "c2f011b9",
   "metadata": {
    "execution": {
     "iopub.execute_input": "2023-10-06T13:25:01.944941Z",
     "iopub.status.busy": "2023-10-06T13:25:01.944271Z",
     "iopub.status.idle": "2023-10-06T13:25:01.948564Z",
     "shell.execute_reply": "2023-10-06T13:25:01.947594Z"
    },
    "papermill": {
     "duration": 0.029683,
     "end_time": "2023-10-06T13:25:01.950405",
     "exception": false,
     "start_time": "2023-10-06T13:25:01.920722",
     "status": "completed"
    },
    "tags": []
   },
   "outputs": [],
   "source": [
    "# Creating an instance of LinearRegression\n",
    "linear_regression = LinearRegression()"
   ]
  },
  {
   "cell_type": "code",
   "execution_count": 38,
   "id": "37ea9a90",
   "metadata": {
    "execution": {
     "iopub.execute_input": "2023-10-06T13:25:01.995544Z",
     "iopub.status.busy": "2023-10-06T13:25:01.994607Z",
     "iopub.status.idle": "2023-10-06T13:25:02.026871Z",
     "shell.execute_reply": "2023-10-06T13:25:02.025890Z"
    },
    "papermill": {
     "duration": 0.057026,
     "end_time": "2023-10-06T13:25:02.028772",
     "exception": false,
     "start_time": "2023-10-06T13:25:01.971746",
     "status": "completed"
    },
    "tags": []
   },
   "outputs": [
    {
     "data": {
      "text/html": [
       "<style>#sk-container-id-1 {color: black;background-color: white;}#sk-container-id-1 pre{padding: 0;}#sk-container-id-1 div.sk-toggleable {background-color: white;}#sk-container-id-1 label.sk-toggleable__label {cursor: pointer;display: block;width: 100%;margin-bottom: 0;padding: 0.3em;box-sizing: border-box;text-align: center;}#sk-container-id-1 label.sk-toggleable__label-arrow:before {content: \"▸\";float: left;margin-right: 0.25em;color: #696969;}#sk-container-id-1 label.sk-toggleable__label-arrow:hover:before {color: black;}#sk-container-id-1 div.sk-estimator:hover label.sk-toggleable__label-arrow:before {color: black;}#sk-container-id-1 div.sk-toggleable__content {max-height: 0;max-width: 0;overflow: hidden;text-align: left;background-color: #f0f8ff;}#sk-container-id-1 div.sk-toggleable__content pre {margin: 0.2em;color: black;border-radius: 0.25em;background-color: #f0f8ff;}#sk-container-id-1 input.sk-toggleable__control:checked~div.sk-toggleable__content {max-height: 200px;max-width: 100%;overflow: auto;}#sk-container-id-1 input.sk-toggleable__control:checked~label.sk-toggleable__label-arrow:before {content: \"▾\";}#sk-container-id-1 div.sk-estimator input.sk-toggleable__control:checked~label.sk-toggleable__label {background-color: #d4ebff;}#sk-container-id-1 div.sk-label input.sk-toggleable__control:checked~label.sk-toggleable__label {background-color: #d4ebff;}#sk-container-id-1 input.sk-hidden--visually {border: 0;clip: rect(1px 1px 1px 1px);clip: rect(1px, 1px, 1px, 1px);height: 1px;margin: -1px;overflow: hidden;padding: 0;position: absolute;width: 1px;}#sk-container-id-1 div.sk-estimator {font-family: monospace;background-color: #f0f8ff;border: 1px dotted black;border-radius: 0.25em;box-sizing: border-box;margin-bottom: 0.5em;}#sk-container-id-1 div.sk-estimator:hover {background-color: #d4ebff;}#sk-container-id-1 div.sk-parallel-item::after {content: \"\";width: 100%;border-bottom: 1px solid gray;flex-grow: 1;}#sk-container-id-1 div.sk-label:hover label.sk-toggleable__label {background-color: #d4ebff;}#sk-container-id-1 div.sk-serial::before {content: \"\";position: absolute;border-left: 1px solid gray;box-sizing: border-box;top: 0;bottom: 0;left: 50%;z-index: 0;}#sk-container-id-1 div.sk-serial {display: flex;flex-direction: column;align-items: center;background-color: white;padding-right: 0.2em;padding-left: 0.2em;position: relative;}#sk-container-id-1 div.sk-item {position: relative;z-index: 1;}#sk-container-id-1 div.sk-parallel {display: flex;align-items: stretch;justify-content: center;background-color: white;position: relative;}#sk-container-id-1 div.sk-item::before, #sk-container-id-1 div.sk-parallel-item::before {content: \"\";position: absolute;border-left: 1px solid gray;box-sizing: border-box;top: 0;bottom: 0;left: 50%;z-index: -1;}#sk-container-id-1 div.sk-parallel-item {display: flex;flex-direction: column;z-index: 1;position: relative;background-color: white;}#sk-container-id-1 div.sk-parallel-item:first-child::after {align-self: flex-end;width: 50%;}#sk-container-id-1 div.sk-parallel-item:last-child::after {align-self: flex-start;width: 50%;}#sk-container-id-1 div.sk-parallel-item:only-child::after {width: 0;}#sk-container-id-1 div.sk-dashed-wrapped {border: 1px dashed gray;margin: 0 0.4em 0.5em 0.4em;box-sizing: border-box;padding-bottom: 0.4em;background-color: white;}#sk-container-id-1 div.sk-label label {font-family: monospace;font-weight: bold;display: inline-block;line-height: 1.2em;}#sk-container-id-1 div.sk-label-container {text-align: center;}#sk-container-id-1 div.sk-container {/* jupyter's `normalize.less` sets `[hidden] { display: none; }` but bootstrap.min.css set `[hidden] { display: none !important; }` so we also need the `!important` here to be able to override the default hidden behavior on the sphinx rendered scikit-learn.org. See: https://github.com/scikit-learn/scikit-learn/issues/21755 */display: inline-block !important;position: relative;}#sk-container-id-1 div.sk-text-repr-fallback {display: none;}</style><div id=\"sk-container-id-1\" class=\"sk-top-container\"><div class=\"sk-text-repr-fallback\"><pre>LinearRegression()</pre><b>In a Jupyter environment, please rerun this cell to show the HTML representation or trust the notebook. <br />On GitHub, the HTML representation is unable to render, please try loading this page with nbviewer.org.</b></div><div class=\"sk-container\" hidden><div class=\"sk-item\"><div class=\"sk-estimator sk-toggleable\"><input class=\"sk-toggleable__control sk-hidden--visually\" id=\"sk-estimator-id-1\" type=\"checkbox\" checked><label for=\"sk-estimator-id-1\" class=\"sk-toggleable__label sk-toggleable__label-arrow\">LinearRegression</label><div class=\"sk-toggleable__content\"><pre>LinearRegression()</pre></div></div></div></div></div>"
      ],
      "text/plain": [
       "LinearRegression()"
      ]
     },
     "execution_count": 38,
     "metadata": {},
     "output_type": "execute_result"
    }
   ],
   "source": [
    "# Fitting the Linear Regression model to the training data\n",
    "linear_regression.fit(x_train, y_train)"
   ]
  },
  {
   "cell_type": "code",
   "execution_count": 39,
   "id": "2b9d42dc",
   "metadata": {
    "execution": {
     "iopub.execute_input": "2023-10-06T13:25:02.077145Z",
     "iopub.status.busy": "2023-10-06T13:25:02.076480Z",
     "iopub.status.idle": "2023-10-06T13:25:02.082271Z",
     "shell.execute_reply": "2023-10-06T13:25:02.081037Z"
    },
    "papermill": {
     "duration": 0.033564,
     "end_time": "2023-10-06T13:25:02.084365",
     "exception": false,
     "start_time": "2023-10-06T13:25:02.050801",
     "status": "completed"
    },
    "tags": []
   },
   "outputs": [
    {
     "name": "stdout",
     "output_type": "stream",
     "text": [
      "[ 0.23466354  0.04673453  0.19082319  0.10851563  0.05044144  0.03042826\n",
      "  0.02159488  0.08486327  0.06688093  0.06073533  0.05942788  0.00092052\n",
      " -0.03100561]\n"
     ]
    }
   ],
   "source": [
    "# Retrieve the coefficients of the Linear Regression model\n",
    "coefficients = linear_regression.coef_\n",
    "\n",
    "# Print the coefficients\n",
    "print(coefficients)"
   ]
  },
  {
   "cell_type": "code",
   "execution_count": 40,
   "id": "eb5eed9d",
   "metadata": {
    "execution": {
     "iopub.execute_input": "2023-10-06T13:25:02.130922Z",
     "iopub.status.busy": "2023-10-06T13:25:02.130186Z",
     "iopub.status.idle": "2023-10-06T13:25:02.138934Z",
     "shell.execute_reply": "2023-10-06T13:25:02.137681Z"
    },
    "papermill": {
     "duration": 0.034248,
     "end_time": "2023-10-06T13:25:02.140806",
     "exception": false,
     "start_time": "2023-10-06T13:25:02.106558",
     "status": "completed"
    },
    "tags": []
   },
   "outputs": [
    {
     "name": "stdout",
     "output_type": "stream",
     "text": [
      "0.6814893088451202\n"
     ]
    }
   ],
   "source": [
    "# Calculate the coefficient of determination (R²) for the Linear Regression model on the training data\n",
    "score = linear_regression.score(x_train, y_train)\n",
    "\n",
    "# Print the coefficient of determination (R²)\n",
    "print(score)"
   ]
  },
  {
   "cell_type": "markdown",
   "id": "64b29584",
   "metadata": {
    "papermill": {
     "duration": 0.022517,
     "end_time": "2023-10-06T13:25:02.185866",
     "exception": false,
     "start_time": "2023-10-06T13:25:02.163349",
     "status": "completed"
    },
    "tags": []
   },
   "source": [
    "# **Scaling Test Data: MinMaxScaler**"
   ]
  },
  {
   "cell_type": "code",
   "execution_count": 41,
   "id": "2448afde",
   "metadata": {
    "execution": {
     "iopub.execute_input": "2023-10-06T13:25:02.234673Z",
     "iopub.status.busy": "2023-10-06T13:25:02.234017Z",
     "iopub.status.idle": "2023-10-06T13:25:02.237733Z",
     "shell.execute_reply": "2023-10-06T13:25:02.237033Z"
    },
    "papermill": {
     "duration": 0.030024,
     "end_time": "2023-10-06T13:25:02.239533",
     "exception": false,
     "start_time": "2023-10-06T13:25:02.209509",
     "status": "completed"
    },
    "tags": []
   },
   "outputs": [],
   "source": [
    "# List of columns to scale\n",
    "col_to_scale = ['area', 'bedrooms', 'bathrooms', 'stories', 'parking','price']"
   ]
  },
  {
   "cell_type": "code",
   "execution_count": 42,
   "id": "69fd3cba",
   "metadata": {
    "execution": {
     "iopub.execute_input": "2023-10-06T13:25:02.287181Z",
     "iopub.status.busy": "2023-10-06T13:25:02.286647Z",
     "iopub.status.idle": "2023-10-06T13:25:02.297829Z",
     "shell.execute_reply": "2023-10-06T13:25:02.296743Z"
    },
    "papermill": {
     "duration": 0.038345,
     "end_time": "2023-10-06T13:25:02.300115",
     "exception": false,
     "start_time": "2023-10-06T13:25:02.261770",
     "status": "completed"
    },
    "tags": []
   },
   "outputs": [],
   "source": [
    "# Scaling the specified columns in the testing subset using the MinMaxScaler\n",
    "df_test[col_to_scale] = scaler.fit_transform(df_test[col_to_scale])"
   ]
  },
  {
   "cell_type": "markdown",
   "id": "0d8271c5",
   "metadata": {
    "papermill": {
     "duration": 0.024027,
     "end_time": "2023-10-06T13:25:02.347485",
     "exception": false,
     "start_time": "2023-10-06T13:25:02.323458",
     "status": "completed"
    },
    "tags": []
   },
   "source": [
    "# **Testing our model**"
   ]
  },
  {
   "cell_type": "code",
   "execution_count": 43,
   "id": "40a16df0",
   "metadata": {
    "execution": {
     "iopub.execute_input": "2023-10-06T13:25:02.397639Z",
     "iopub.status.busy": "2023-10-06T13:25:02.396922Z",
     "iopub.status.idle": "2023-10-06T13:25:02.401898Z",
     "shell.execute_reply": "2023-10-06T13:25:02.401047Z"
    },
    "papermill": {
     "duration": 0.032261,
     "end_time": "2023-10-06T13:25:02.404131",
     "exception": false,
     "start_time": "2023-10-06T13:25:02.371870",
     "status": "completed"
    },
    "tags": []
   },
   "outputs": [],
   "source": [
    "# Separate the target variable from the testing subset\n",
    "y_test = df_test.pop('price')\n",
    "\n",
    "# Extract the remaining features as the testing data\n",
    "x_test = df_test"
   ]
  },
  {
   "cell_type": "code",
   "execution_count": 44,
   "id": "cfccd6c8",
   "metadata": {
    "execution": {
     "iopub.execute_input": "2023-10-06T13:25:02.453330Z",
     "iopub.status.busy": "2023-10-06T13:25:02.452939Z",
     "iopub.status.idle": "2023-10-06T13:25:02.460233Z",
     "shell.execute_reply": "2023-10-06T13:25:02.459150Z"
    },
    "papermill": {
     "duration": 0.03383,
     "end_time": "2023-10-06T13:25:02.462359",
     "exception": false,
     "start_time": "2023-10-06T13:25:02.428529",
     "status": "completed"
    },
    "tags": []
   },
   "outputs": [],
   "source": [
    "# Make predictions on the testing data using the trained Linear Regression model\n",
    "prediction = linear_regression.predict(x_test)"
   ]
  },
  {
   "cell_type": "markdown",
   "id": "5887ffd0",
   "metadata": {
    "papermill": {
     "duration": 0.021937,
     "end_time": "2023-10-06T13:25:02.506267",
     "exception": false,
     "start_time": "2023-10-06T13:25:02.484330",
     "status": "completed"
    },
    "tags": []
   },
   "source": [
    "### **Checking R squared value**"
   ]
  },
  {
   "cell_type": "code",
   "execution_count": 45,
   "id": "630c3c3f",
   "metadata": {
    "execution": {
     "iopub.execute_input": "2023-10-06T13:25:02.553441Z",
     "iopub.status.busy": "2023-10-06T13:25:02.552314Z",
     "iopub.status.idle": "2023-10-06T13:25:02.557748Z",
     "shell.execute_reply": "2023-10-06T13:25:02.556624Z"
    },
    "papermill": {
     "duration": 0.031195,
     "end_time": "2023-10-06T13:25:02.559826",
     "exception": false,
     "start_time": "2023-10-06T13:25:02.528631",
     "status": "completed"
    },
    "tags": []
   },
   "outputs": [],
   "source": [
    "# Calculate the coefficient of determination (R²) for the predictions\n",
    "r2 = r2_score(y_test, prediction)"
   ]
  },
  {
   "cell_type": "markdown",
   "id": "95d68381",
   "metadata": {
    "papermill": {
     "duration": 0.022808,
     "end_time": "2023-10-06T13:25:02.604807",
     "exception": false,
     "start_time": "2023-10-06T13:25:02.581999",
     "status": "completed"
    },
    "tags": []
   },
   "source": [
    "# **Comparing the actual and predicted values**"
   ]
  },
  {
   "cell_type": "code",
   "execution_count": 46,
   "id": "8ba68a45",
   "metadata": {
    "execution": {
     "iopub.execute_input": "2023-10-06T13:25:02.653151Z",
     "iopub.status.busy": "2023-10-06T13:25:02.652714Z",
     "iopub.status.idle": "2023-10-06T13:25:02.657712Z",
     "shell.execute_reply": "2023-10-06T13:25:02.656655Z"
    },
    "papermill": {
     "duration": 0.031017,
     "end_time": "2023-10-06T13:25:02.659744",
     "exception": false,
     "start_time": "2023-10-06T13:25:02.628727",
     "status": "completed"
    },
    "tags": []
   },
   "outputs": [],
   "source": [
    "# Get the shape of y_test\n",
    "y_test.shape\n",
    "\n",
    "# Reshape y_test to a matrix with a single column\n",
    "y_test_matrix = y_test.values.reshape(-1, 1)"
   ]
  },
  {
   "cell_type": "code",
   "execution_count": 47,
   "id": "f6f80353",
   "metadata": {
    "execution": {
     "iopub.execute_input": "2023-10-06T13:25:02.706423Z",
     "iopub.status.busy": "2023-10-06T13:25:02.706071Z",
     "iopub.status.idle": "2023-10-06T13:25:02.710824Z",
     "shell.execute_reply": "2023-10-06T13:25:02.709748Z"
    },
    "papermill": {
     "duration": 0.030553,
     "end_time": "2023-10-06T13:25:02.712923",
     "exception": false,
     "start_time": "2023-10-06T13:25:02.682370",
     "status": "completed"
    },
    "tags": []
   },
   "outputs": [],
   "source": [
    "# Creating a DataFrame with actual and predicted values\n",
    "data_frame = pd.DataFrame({'actual': y_test_matrix.flatten(), 'predicted': prediction.flatten()})"
   ]
  },
  {
   "cell_type": "code",
   "execution_count": 48,
   "id": "c7127bed",
   "metadata": {
    "execution": {
     "iopub.execute_input": "2023-10-06T13:25:02.758558Z",
     "iopub.status.busy": "2023-10-06T13:25:02.758196Z",
     "iopub.status.idle": "2023-10-06T13:25:02.767868Z",
     "shell.execute_reply": "2023-10-06T13:25:02.766908Z"
    },
    "papermill": {
     "duration": 0.034694,
     "end_time": "2023-10-06T13:25:02.769715",
     "exception": false,
     "start_time": "2023-10-06T13:25:02.735021",
     "status": "completed"
    },
    "tags": []
   },
   "outputs": [
    {
     "data": {
      "text/html": [
       "<div>\n",
       "<style scoped>\n",
       "    .dataframe tbody tr th:only-of-type {\n",
       "        vertical-align: middle;\n",
       "    }\n",
       "\n",
       "    .dataframe tbody tr th {\n",
       "        vertical-align: top;\n",
       "    }\n",
       "\n",
       "    .dataframe thead th {\n",
       "        text-align: right;\n",
       "    }\n",
       "</style>\n",
       "<table border=\"1\" class=\"dataframe\">\n",
       "  <thead>\n",
       "    <tr style=\"text-align: right;\">\n",
       "      <th></th>\n",
       "      <th>actual</th>\n",
       "      <th>predicted</th>\n",
       "    </tr>\n",
       "  </thead>\n",
       "  <tbody>\n",
       "    <tr>\n",
       "      <th>0</th>\n",
       "      <td>0.247651</td>\n",
       "      <td>0.202410</td>\n",
       "    </tr>\n",
       "    <tr>\n",
       "      <th>1</th>\n",
       "      <td>0.530201</td>\n",
       "      <td>0.374464</td>\n",
       "    </tr>\n",
       "    <tr>\n",
       "      <th>2</th>\n",
       "      <td>0.328859</td>\n",
       "      <td>0.305654</td>\n",
       "    </tr>\n",
       "    <tr>\n",
       "      <th>3</th>\n",
       "      <td>0.261745</td>\n",
       "      <td>0.293786</td>\n",
       "    </tr>\n",
       "    <tr>\n",
       "      <th>4</th>\n",
       "      <td>0.245638</td>\n",
       "      <td>0.258827</td>\n",
       "    </tr>\n",
       "    <tr>\n",
       "      <th>5</th>\n",
       "      <td>0.275168</td>\n",
       "      <td>0.189463</td>\n",
       "    </tr>\n",
       "    <tr>\n",
       "      <th>6</th>\n",
       "      <td>0.644295</td>\n",
       "      <td>0.499099</td>\n",
       "    </tr>\n",
       "    <tr>\n",
       "      <th>7</th>\n",
       "      <td>0.328859</td>\n",
       "      <td>0.297637</td>\n",
       "    </tr>\n",
       "    <tr>\n",
       "      <th>8</th>\n",
       "      <td>0.087248</td>\n",
       "      <td>0.122528</td>\n",
       "    </tr>\n",
       "    <tr>\n",
       "      <th>9</th>\n",
       "      <td>0.395973</td>\n",
       "      <td>0.316860</td>\n",
       "    </tr>\n",
       "  </tbody>\n",
       "</table>\n",
       "</div>"
      ],
      "text/plain": [
       "     actual  predicted\n",
       "0  0.247651   0.202410\n",
       "1  0.530201   0.374464\n",
       "2  0.328859   0.305654\n",
       "3  0.261745   0.293786\n",
       "4  0.245638   0.258827\n",
       "5  0.275168   0.189463\n",
       "6  0.644295   0.499099\n",
       "7  0.328859   0.297637\n",
       "8  0.087248   0.122528\n",
       "9  0.395973   0.316860"
      ]
     },
     "execution_count": 48,
     "metadata": {},
     "output_type": "execute_result"
    }
   ],
   "source": [
    "# Display the first 10 rows of the DataFrame\n",
    "data_frame.head(10)"
   ]
  },
  {
   "cell_type": "markdown",
   "id": "9936772b",
   "metadata": {
    "papermill": {
     "duration": 0.021659,
     "end_time": "2023-10-06T13:25:02.813436",
     "exception": false,
     "start_time": "2023-10-06T13:25:02.791777",
     "status": "completed"
    },
    "tags": []
   },
   "source": [
    "### **Plotting the Graph**"
   ]
  },
  {
   "cell_type": "code",
   "execution_count": 49,
   "id": "b358adc5",
   "metadata": {
    "execution": {
     "iopub.execute_input": "2023-10-06T13:25:02.859103Z",
     "iopub.status.busy": "2023-10-06T13:25:02.858446Z",
     "iopub.status.idle": "2023-10-06T13:25:03.155280Z",
     "shell.execute_reply": "2023-10-06T13:25:03.154509Z"
    },
    "papermill": {
     "duration": 0.321649,
     "end_time": "2023-10-06T13:25:03.157097",
     "exception": false,
     "start_time": "2023-10-06T13:25:02.835448",
     "status": "completed"
    },
    "tags": []
   },
   "outputs": [
    {
     "data": {
      "text/plain": [
       "Text(0, 0.5, 'Predicted')"
      ]
     },
     "execution_count": 49,
     "metadata": {},
     "output_type": "execute_result"
    },
    {
     "data": {
      "image/png": "[encoded data removed]",
      "text/plain": [
       "<Figure size 640x480 with 1 Axes>"
      ]
     },
     "metadata": {},
     "output_type": "display_data"
    }
   ],
   "source": [
    "# Create a new figure\n",
    "fig = plt.figure()\n",
    "\n",
    "# Scatter plot of actual versus predicted values\n",
    "plt.scatter(y_test, prediction)\n",
    "\n",
    "# Set the title and labels for the plot\n",
    "plt.title('Actual vs Prediction')\n",
    "plt.xlabel('Actual', fontsize=15)\n",
    "plt.ylabel('Predicted', fontsize=15)"
   ]
  }
 ],
 "metadata": {
  "kernelspec": {
   "display_name": "Python 3",
   "language": "python",
   "name": "python3"
  },
  "language_info": {
   "codemirror_mode": {
    "name": "ipython",
    "version": 3
   },
   "file_extension": ".py",
   "mimetype": "text/x-python",
   "name": "python",
   "nbconvert_exporter": "python",
   "pygments_lexer": "ipython3",
   "version": "3.10.12"
  },
  "papermill": {
   "default_parameters": {},
   "duration": 26.902658,
   "end_time": "2023-10-06T13:25:04.402723",
   "environment_variables": {},
   "exception": null,
   "input_path": "__notebook__.ipynb",
   "output_path": "__notebook__.ipynb",
   "parameters": {},
   "start_time": "2023-10-06T13:24:37.500065",
   "version": "2.4.0"
  }
 },
 "nbformat": 4,
 "nbformat_minor": 5
}
